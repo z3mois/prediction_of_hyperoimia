{
 "cells": [
  {
   "cell_type": "code",
   "execution_count": 1,
   "id": "d7e2fb2d-0092-4f93-80fa-7bd9aa67ab15",
   "metadata": {},
   "outputs": [],
   "source": [
    "from lib2to3.pytree import WildcardPattern\n",
    "import json\n",
    "import lxml\n",
    "import os\n",
    "import argparse\n",
    "import logging\n",
    "import re\n",
    "import sys\n",
    "from io import StringIO\n",
    "from multiprocessing import Queue, get_context, cpu_count\n",
    "from timeit import default_timer\n",
    "import re\n",
    "from tqdm import tqdm\n",
    "import pickle\n",
    "from ruwordnet import RuWordNet\n",
    "from collections import defaultdict\n",
    "import time\n",
    "import numpy as np\n",
    "import bert\n",
    "from cmT8aq2P import SentenceBertTransformer\n",
    "import torch\n",
    "from transformers import AutoModel, AutoTokenizer\n",
    "from reading_wiki_and_wn import collect_article, collect_info_wn\n",
    "from classes import Page, WikiSynset, display, WnCtx\n",
    "from general import coolect_wiki_synset, unambiguity_resolution, accounting_for_redirects, resolution_of_ambiguity\n",
    "from general import expanding_candidates_by_lemmas, adding_multi_label, getting_candidates_for_stage_3\n",
    "from some_help_functions import get_corted_canidates, map_id_title_synset\n",
    "import gc\n",
    "import random"
   ]
  },
  {
   "cell_type": "code",
   "execution_count": 27,
   "id": "75811610",
   "metadata": {},
   "outputs": [
    {
     "ename": "NameError",
     "evalue": "name 'reading_wiki_and_wn' is not defined",
     "output_type": "error",
     "traceback": [
      "\u001b[1;31m---------------------------------------------------------------------------\u001b[0m",
      "\u001b[1;31mNameError\u001b[0m                                 Traceback (most recent call last)",
      "\u001b[1;32m~\\AppData\\Local\\Temp\\ipykernel_7640\\1534878029.py\u001b[0m in \u001b[0;36m<module>\u001b[1;34m\u001b[0m\n\u001b[0;32m      1\u001b[0m \u001b[1;32mimport\u001b[0m \u001b[0mimportlib\u001b[0m\u001b[1;33m\u001b[0m\u001b[1;33m\u001b[0m\u001b[0m\n\u001b[0;32m      2\u001b[0m \u001b[1;33m\u001b[0m\u001b[0m\n\u001b[1;32m----> 3\u001b[1;33m \u001b[0mimportlib\u001b[0m\u001b[1;33m.\u001b[0m\u001b[0mreload\u001b[0m\u001b[1;33m(\u001b[0m\u001b[0mreading_wiki_and_wn\u001b[0m\u001b[1;33m)\u001b[0m\u001b[1;33m\u001b[0m\u001b[1;33m\u001b[0m\u001b[0m\n\u001b[0m",
      "\u001b[1;31mNameError\u001b[0m: name 'reading_wiki_and_wn' is not defined"
     ]
    }
   ],
   "source": [
    "# import importlib\n",
    "\n",
    "# importlib.reload(reading_wiki_and_wn)"
   ]
  },
  {
   "cell_type": "code",
   "execution_count": 2,
   "id": "22012194",
   "metadata": {},
   "outputs": [],
   "source": [
    "DUMP_PATH = \"D:\\\\asd\\\\ruwiki-20220701-pages-meta-current.xml.bz2\"\n",
    "XML_PATH = 'D:\\\\lbase_data\\\\senses.N.xml'"
   ]
  },
  {
   "cell_type": "markdown",
   "id": "21464dbc",
   "metadata": {},
   "source": [
    "Читаем дамп википедии и собираем информацию о статьях и редиректах"
   ]
  },
  {
   "cell_type": "code",
   "execution_count": 3,
   "id": "af38d96d-e401-4bb1-a6e1-14fa2f86a271",
   "metadata": {},
   "outputs": [
    {
     "name": "stderr",
     "output_type": "stream",
     "text": [
      "Read dump Wiki: 4432391it [46:05, 1602.88it/s] \n"
     ]
    }
   ],
   "source": [
    "# pages, dictPageRedirect, dictRedirect = collect_article(DUMP_PATH)"
   ]
  },
  {
   "cell_type": "code",
   "execution_count": 4,
   "id": "7c921fa5",
   "metadata": {},
   "outputs": [],
   "source": [
    "# сохранение  информации о страницах\n",
    "# file = open(\"D:\\\\lbase_data\\\\ctxw.txt\", \"wb\")\n",
    "# pickle.dump(pages, file=file)\n",
    "# file.close()\n",
    "# file = open(\"D:\\\\lbase_data\\\\drp.txt\", \"wb\")\n",
    "# pickle.dump(dictPageRedirect, file=file)\n",
    "# file.close()\n",
    "# file = open(\"D:\\\\lbase_data\\\\dr.txt\", \"wb\")\n",
    "# pickle.dump(dictRedirect, file=file)\n",
    "# file.close()\n"
   ]
  },
  {
   "cell_type": "code",
   "execution_count": 3,
   "id": "6e7f51aa-7781-4cc8-a447-3040f44e857d",
   "metadata": {},
   "outputs": [],
   "source": [
    "file = open(\"D:\\\\lbase_data\\\\ctxw.txt\", \"rb\")\n",
    "unpickler = pickle.Unpickler(file)\n",
    "pages = unpickler.load()\n",
    "file.close()\n",
    "file = open(\"D:\\\\lbase_data\\\\dr.txt\", \"rb\")\n",
    "unpickler = pickle.Unpickler(file)\n",
    "dictRedirect = unpickler.load()\n",
    "file.close()\n",
    "file = open(\"D:\\\\lbase_data\\\\drp.txt\", \"rb\")\n",
    "unpickler = pickle.Unpickler(file)\n",
    "dictPageRedirect = unpickler.load()\n",
    "file.close()"
   ]
  },
  {
   "cell_type": "code",
   "execution_count": 11,
   "id": "06aa9261-4fcb-4ee2-8a1e-66a0dca64bec",
   "metadata": {},
   "outputs": [
    {
     "name": "stdout",
     "output_type": "stream",
     "text": [
      "1340\n"
     ]
    }
   ],
   "source": [
    "pages[1340].links"
   ]
  },
  {
   "cell_type": "code",
   "execution_count": 12,
   "id": "381277bd-303c-4488-bed5-dd5fe8ae11a1",
   "metadata": {},
   "outputs": [
    {
     "data": {
      "text/plain": [
       "['язык',\n",
       " 'компьютерная техника',\n",
       " 'язык программирования',\n",
       " 'программист',\n",
       " 'компьютер',\n",
       " 'Компьютерный сленг',\n",
       " 'Язык программирования',\n",
       " 'Сценарный язык',\n",
       " 'Псевдоестественный язык',\n",
       " 'Информационный язык',\n",
       " 'Язык разметки',\n",
       " 'Язык спецификаций',\n",
       " 'Каскадные таблицы стилей',\n",
       " 'Язык описания аппаратуры',\n",
       " 'Протокол обмена',\n",
       " 'сетевой протокол',\n",
       " 'Компьютерный сленг']"
      ]
     },
     "execution_count": 12,
     "metadata": {},
     "output_type": "execute_result"
    }
   ],
   "source": [
    "\n"
   ]
  },
  {
   "cell_type": "code",
   "execution_count": 13,
   "id": "119f3970-e227-4156-8bf4-2c222525b1c4",
   "metadata": {},
   "outputs": [
    {
     "name": "stdout",
     "output_type": "stream",
     "text": [
      "988017\n",
      "988017\n"
     ]
    }
   ],
   "source": [
    "print(len(dictPageRedirect))\n",
    "print(len(dictRedirect))\n",
    "    "
   ]
  },
  {
   "cell_type": "markdown",
   "id": "7c241dd3",
   "metadata": {},
   "source": [
    "Получение викисинсетов"
   ]
  },
  {
   "cell_type": "code",
   "execution_count": 4,
   "id": "5a387562-36f6-450c-bc9e-4327cd9a233c",
   "metadata": {},
   "outputs": [
    {
     "name": "stderr",
     "output_type": "stream",
     "text": [
      "Do hash: 100%|██████████████████████████████████████████████████████████| 4432391/4432391 [00:02<00:00, 1559331.69it/s]\n",
      "Add multiPage: 100%|████████████████████████████████████████████████████| 4432391/4432391 [00:01<00:00, 3470938.68it/s]\n",
      "Create WikiSynset: 100%|██████████████████████████████████████████████████| 4432391/4432391 [05:03<00:00, 14588.51it/s]\n"
     ]
    }
   ],
   "source": [
    "wiki, meaningPageCounter, multiPageCounter, includeTitle = coolect_wiki_synset(pages, dictPageRedirect)"
   ]
  },
  {
   "cell_type": "markdown",
   "id": "8beb93ed",
   "metadata": {},
   "source": [
    "Чтение sense-ов и сохранние информации о них"
   ]
  },
  {
   "cell_type": "code",
   "execution_count": 15,
   "id": "604a34b2-59cc-413d-94e6-edc15d94e6c8",
   "metadata": {},
   "outputs": [
    {
     "name": "stderr",
     "output_type": "stream",
     "text": [
      "Read Wn sense: 100%|█████████████████████████████████████████████████████████████| 94710/94710 [54:50<00:00, 28.78it/s]\n"
     ]
    },
    {
     "data": {
      "text/plain": [
       "94710"
      ]
     },
     "execution_count": 15,
     "metadata": {},
     "output_type": "execute_result"
    }
   ],
   "source": [
    "#read word in wn\n",
    "dictWn, countWn = collect_info_wn(XML_PATH)\n",
    "countWn"
   ]
  },
  {
   "cell_type": "code",
   "execution_count": 16,
   "id": "8e848d55-82d4-44f1-a546-ce50c419be2d",
   "metadata": {},
   "outputs": [],
   "source": [
    "# сохранениеи информации о WN\n",
    "# file = open(\"D:\\\\lbase_data\\\\ctxS.txt\", \"wb\")\n",
    "# pickle.dump(dictWn, file=file)\n",
    "# file.close()"
   ]
  },
  {
   "cell_type": "code",
   "execution_count": 5,
   "id": "753dc511",
   "metadata": {},
   "outputs": [],
   "source": [
    "file = open(\"D:\\\\lbase_data\\\\ctxS.txt\", \"rb\")\n",
    "unpickler = pickle.Unpickler(file)\n",
    "dictWn = unpickler.load()\n",
    "file.close()"
   ]
  },
  {
   "cell_type": "code",
   "execution_count": 6,
   "id": "bb09a45b-9b8a-4714-a488-11b72deb9a2d",
   "metadata": {},
   "outputs": [
    {
     "name": "stdout",
     "output_type": "stream",
     "text": [
      "WnCtx(id='130542-N-196389', ctx={'корректурный правка', 'выверить', 'вычитывание', 'вычитка', 'вычитка текст', 'редактирование текст', 'тщательно проверить', 'модерация контент'}, lemmaInWn='ВЫЧИТКА', name='ВЫЧИТКА')\n"
     ]
    }
   ],
   "source": [
    "\n",
    "print(dictWn[\"130542-N-196389\"])"
   ]
  },
  {
   "cell_type": "markdown",
   "id": "581edbc8",
   "metadata": {},
   "source": [
    "Первый этап - связывание однозначных \"понятий\""
   ]
  },
  {
   "cell_type": "code",
   "execution_count": 6,
   "id": "ddcaf586-21ee-460b-a402-6d8334a882af",
   "metadata": {},
   "outputs": [
    {
     "name": "stderr",
     "output_type": "stream",
     "text": [
      "unambiguity_resolution: 100%|██████████████████████████████████████████████| 1826284/1826284 [13:11<00:00, 2306.27it/s]\n"
     ]
    }
   ],
   "source": [
    "dictDisplay, new_wiki = unambiguity_resolution(wiki, dictWn)\n"
   ]
  },
  {
   "cell_type": "code",
   "execution_count": 8,
   "id": "7088c33a",
   "metadata": {},
   "outputs": [],
   "source": [
    "# сохранение dictDisplay  и new_wiki\n",
    "# file = open(\"D:\\\\lbase_data\\\\dictDisplay1.txt\", \"wb\")\n",
    "# pickle.dump(dictDisplay, file=file)\n",
    "# file.close()\n",
    "# file = open(\"D:\\\\lbase_data\\\\new_wiki.txt\", \"wb\")\n",
    "# pickle.dump(new_wiki, file=file)\n",
    "# file.close()"
   ]
  },
  {
   "cell_type": "code",
   "execution_count": 7,
   "id": "40f6d518",
   "metadata": {},
   "outputs": [],
   "source": [
    "file = open(\"D:\\\\lbase_data\\\\dictDisplay1.txt\", \"rb\")\n",
    "unpickler = pickle.Unpickler(file)\n",
    "dictDisplay = unpickler.load()\n",
    "file.close()\n",
    "file = open(\"D:\\\\lbase_data\\\\new_wiki.txt\", \"rb\")\n",
    "unpickler = pickle.Unpickler(file)\n",
    "new_wiki = unpickler.load()\n",
    "file.close()"
   ]
  },
  {
   "cell_type": "code",
   "execution_count": 8,
   "id": "03b3f03a",
   "metadata": {},
   "outputs": [],
   "source": [
    "#     запись резулаов первого этапа в удобночиаемый вид\n",
    "file = open(\"D:\\\\lbase_data\\\\unambiguousDisplay.txt\", \"w\")\n",
    "for key in dictDisplay:\n",
    "    temp = \"id:  \"+str(dictDisplay[key].id) + \" revid: \" + str(dictDisplay[key].revid) + \" title: \"+str(dictDisplay[key].title)  + \" lemma: \"  + str(dictDisplay[key].lemma) + \" wordId:\" + str(dictDisplay[key].wordId)+\"\\n\"\n",
    "    file.write(temp)\n",
    "file.close()"
   ]
  },
  {
   "cell_type": "code",
   "execution_count": 9,
   "id": "06b7501d",
   "metadata": {},
   "outputs": [
    {
     "data": {
      "text/plain": [
       "0"
      ]
     },
     "execution_count": 9,
     "metadata": {},
     "output_type": "execute_result"
    }
   ],
   "source": [
    "gc.collect()"
   ]
  },
  {
   "cell_type": "markdown",
   "id": "dcf1cb23",
   "metadata": {},
   "source": [
    "строим отображение из леммы в индексы"
   ]
  },
  {
   "cell_type": "code",
   "execution_count": 10,
   "id": "031327db-d7fb-4d12-a4c6-59919b1a02e6",
   "metadata": {},
   "outputs": [
    {
     "name": "stderr",
     "output_type": "stream",
     "text": [
      "take more candidates for lemmas: 100%|██████████████████████████████████████| 1823849/1823849 [52:51<00:00, 575.01it/s]\n"
     ]
    }
   ],
   "source": [
    "\n",
    "dictLemmaInIndex = expanding_candidates_by_lemmas(new_wiki)"
   ]
  },
  {
   "cell_type": "code",
   "execution_count": 11,
   "id": "f6a4fbc9",
   "metadata": {},
   "outputs": [],
   "source": [
    "# сохранение dictLemmaInIndex\n",
    "# file = open(\"D:\\\\lbase_data\\\\dictLemmaInIndex.txt\", \"wb\")\n",
    "# pickle.dump(dictLemmaInIndex, file=file)\n",
    "# file.close()"
   ]
  },
  {
   "cell_type": "code",
   "execution_count": 16,
   "id": "5da947d6",
   "metadata": {},
   "outputs": [],
   "source": [
    "file = open(\"D:\\\\lbase_data\\\\dictLemmaInIndex.txt\", \"rb\")\n",
    "unpickler = pickle.Unpickler(file)\n",
    "dictLemmaInIndex = unpickler.load()\n",
    "file.close()"
   ]
  },
  {
   "cell_type": "markdown",
   "id": "115a914c",
   "metadata": {},
   "source": [
    "Учет отображение из леммы в индексы(добавление мееки multiPage)"
   ]
  },
  {
   "cell_type": "code",
   "execution_count": 12,
   "id": "b3fe3a03-0ebe-4603-bd81-dde335be4410",
   "metadata": {},
   "outputs": [
    {
     "name": "stderr",
     "output_type": "stream",
     "text": [
      "100%|████████████████████████████████████████████████████████████████████| 1823849/1823849 [00:10<00:00, 168062.64it/s]\n"
     ]
    },
    {
     "data": {
      "text/plain": [
       "16937"
      ]
     },
     "execution_count": 12,
     "metadata": {},
     "output_type": "execute_result"
    }
   ],
   "source": [
    "new_wiki, count = adding_multi_label(new_wiki, dictLemmaInIndex)\n",
    "count"
   ]
  },
  {
   "cell_type": "markdown",
   "id": "152c87de",
   "metadata": {},
   "source": [
    "Второй этап - учет редиректов"
   ]
  },
  {
   "cell_type": "code",
   "execution_count": 13,
   "id": "678ba80f-5329-407f-9a1c-03966e28ca48",
   "metadata": {},
   "outputs": [
    {
     "name": "stderr",
     "output_type": "stream",
     "text": [
      "100%|██████████████████████████████████████████████████████████████████████| 1823849/1823849 [27:44<00:00, 1095.57it/s]\n"
     ]
    }
   ],
   "source": [
    "wiki3, dictDisplay, countN = accounting_for_redirects(new_wiki, dictDisplay)"
   ]
  },
  {
   "cell_type": "code",
   "execution_count": 14,
   "id": "1a851d35",
   "metadata": {},
   "outputs": [],
   "source": [
    "file = open(\"D:\\\\lbase_data\\\\secondpart.txt\", \"w\", encoding=\"utf-8\")\n",
    "for key in dictDisplay:\n",
    "    temp = \"id:  \"+str(dictDisplay[key].id) + \" revid: \" + str(dictDisplay[key].revid) + \" title: \"+str(dictDisplay[key].title)  + \" lemma: \"  + str(dictDisplay[key].lemma) + \" wordId:\" + str(dictDisplay[key].wordId)+\"\\n\"\n",
    "    file.write(temp)\n",
    "file.close()"
   ]
  },
  {
   "cell_type": "code",
   "execution_count": 15,
   "id": "f6f897ed",
   "metadata": {},
   "outputs": [],
   "source": [
    "# сохранение dictDisplay  и wiki3\n",
    "# file = open(\"D:\\\\lbase_data\\\\dictDisplay2.txt\", \"wb\")\n",
    "# pickle.dump(dictDisplay, file=file)\n",
    "# file.close()\n",
    "# file = open(\"D:\\\\lbase_data\\\\wiki3.txt\", \"wb\")\n",
    "# pickle.dump(wiki3, file=file)\n",
    "# file.close()"
   ]
  },
  {
   "cell_type": "code",
   "execution_count": 17,
   "id": "27de5dc8",
   "metadata": {},
   "outputs": [],
   "source": [
    "file = open(\"D:\\\\lbase_data\\\\dictDisplay2.txt\", \"rb\")\n",
    "unpickler = pickle.Unpickler(file)\n",
    "dictDisplay = unpickler.load()\n",
    "file.close()\n",
    "file = open(\"D:\\\\lbase_data\\\\wiki3.txt\", \"rb\")\n",
    "unpickler = pickle.Unpickler(file)\n",
    "wiki3 = unpickler.load()\n",
    "file.close()"
   ]
  },
  {
   "cell_type": "markdown",
   "id": "a9f43a6e",
   "metadata": {},
   "source": [
    "Также строим отображение из леммы в индексы для оставшихся викиснесетов"
   ]
  },
  {
   "cell_type": "code",
   "execution_count": 16,
   "id": "aeecf420-1e2b-491f-a527-8e9dc4a082f2",
   "metadata": {},
   "outputs": [
    {
     "name": "stderr",
     "output_type": "stream",
     "text": [
      "take more candidates for lemmas: 100%|██████████████████████████████████████| 1818839/1818839 [52:34<00:00, 576.67it/s]\n"
     ]
    }
   ],
   "source": [
    "#теперь собираем кандидатов только из оставшихся статей\n",
    "dictLemmaInIndex = expanding_candidates_by_lemmas(wiki3)"
   ]
  },
  {
   "cell_type": "code",
   "execution_count": 17,
   "id": "9012962b",
   "metadata": {},
   "outputs": [],
   "source": [
    "# сохранение dictLemmaInIndex\n",
    "# file = open(\"D:\\\\lbase_data\\\\dictLemmaInIndex1.txt\", \"wb\")\n",
    "# pickle.dump(dictLemmaInIndex, file=file)\n",
    "# file.close()"
   ]
  },
  {
   "cell_type": "code",
   "execution_count": 18,
   "id": "86ed58b5",
   "metadata": {},
   "outputs": [],
   "source": [
    "file = open(\"D:\\\\lbase_data\\\\dictLemmaInIndex1.txt\", \"rb\")\n",
    "unpickler = pickle.Unpickler(file)\n",
    "dictLemmaInIndex = unpickler.load()\n",
    "file.close()"
   ]
  },
  {
   "cell_type": "code",
   "execution_count": 18,
   "id": "932677fb-e093-43a5-8ca9-9e91d69df074",
   "metadata": {},
   "outputs": [
    {
     "name": "stderr",
     "output_type": "stream",
     "text": [
      "getting_candidates_for_stage_3: 100%|██████████████████████████████████████| 1818839/1818839 [24:18<00:00, 1246.71it/s]\n"
     ]
    }
   ],
   "source": [
    "dictSynsetId = getting_candidates_for_stage_3(wiki3, dictWn, dictLemmaInIndex)"
   ]
  },
  {
   "cell_type": "code",
   "execution_count": 20,
   "id": "7e380c3c",
   "metadata": {},
   "outputs": [],
   "source": [
    "# сохранение dictSynsetId\n",
    "# file = open(\"D:\\\\lbase_data\\\\dictSynsetId.txt\", \"wb\")\n",
    "# pickle.dump(dictSynsetId, file=file)\n",
    "# file.close()"
   ]
  },
  {
   "cell_type": "code",
   "execution_count": 19,
   "id": "6dd1bc11",
   "metadata": {},
   "outputs": [],
   "source": [
    "file = open(\"D:\\\\lbase_data\\\\dictSynsetId.txt\", \"rb\")\n",
    "unpickler = pickle.Unpickler(file)\n",
    "dictSynsetId = unpickler.load()\n",
    "file.close()"
   ]
  },
  {
   "cell_type": "code",
   "execution_count": 21,
   "id": "7e249feb",
   "metadata": {},
   "outputs": [
    {
     "name": "stderr",
     "output_type": "stream",
     "text": [
      "100%|█████████████████████████████████████████████████████████████████████████| 20501/20501 [00:01<00:00, 14855.78it/s]\n"
     ]
    }
   ],
   "source": [
    "sortCandidates = get_corted_canidates(dictSynsetId)"
   ]
  },
  {
   "cell_type": "code",
   "execution_count": 22,
   "id": "7492c4c4",
   "metadata": {},
   "outputs": [],
   "source": [
    "dictIdTitle = map_id_title_synset()"
   ]
  },
  {
   "cell_type": "code",
   "execution_count": 23,
   "id": "be0a4857-233a-4b36-bf18-e5ce6254d0db",
   "metadata": {},
   "outputs": [
    {
     "name": "stderr",
     "output_type": "stream",
     "text": [
      "100%|█████████████████████████████████████████████████████████████████████████| 20501/20501 [00:00<00:00, 66789.67it/s]\n"
     ]
    }
   ],
   "source": [
    "#запись в файл претендентов\n",
    "candidates = open(\"D:\\\\lbase_data\\\\candidates.txt\", \"w\", encoding=\"utf-8\")\n",
    "i = 0\n",
    "for key in tqdm(sortCandidates):\n",
    "    s = \"id synset = \"+str(key) + \" synset title = \" + dictIdTitle[key]\n",
    "    for elem in sortCandidates[key]:\n",
    "        s += \" title = \" + elem.page.title +\" id = \" + elem.page.id + \" \"\n",
    "    print(s, file = candidates)\n",
    "candidates.close()"
   ]
  },
  {
   "cell_type": "markdown",
   "id": "2599e3da",
   "metadata": {},
   "source": [
    "Объявление трансформера labse"
   ]
  },
  {
   "cell_type": "code",
   "execution_count": 24,
   "id": "87b2175a-4b6c-4419-bd9b-736feb980eb7",
   "metadata": {},
   "outputs": [],
   "source": [
    "labse = SentenceBertTransformer(device=\"cuda\")\n",
    "labse.load_model()"
   ]
  },
  {
   "cell_type": "markdown",
   "id": "c685b0c0",
   "metadata": {},
   "source": [
    "Разрешение многозначности"
   ]
  },
  {
   "cell_type": "code",
   "execution_count": 25,
   "id": "7a1e4b25-500a-4678-a3e8-518530d36d7e",
   "metadata": {},
   "outputs": [
    {
     "name": "stderr",
     "output_type": "stream",
     "text": [
      "100%|████████████████████████████████████████████████████████████████████████████| 20501/20501 [38:45<00:00,  8.81it/s]\n"
     ]
    },
    {
     "ename": "ValueError",
     "evalue": "not enough values to unpack (expected 7, got 2)",
     "output_type": "error",
     "traceback": [
      "\u001b[1;31m---------------------------------------------------------------------------\u001b[0m",
      "\u001b[1;31mValueError\u001b[0m                                Traceback (most recent call last)",
      "\u001b[1;32m~\\AppData\\Local\\Temp\\ipykernel_15028\\3711327115.py\u001b[0m in \u001b[0;36m<module>\u001b[1;34m\u001b[0m\n\u001b[1;32m----> 1\u001b[1;33m \u001b[0mdictSortCandidates\u001b[0m\u001b[1;33m,\u001b[0m \u001b[0mdictDisplay\u001b[0m\u001b[1;33m,\u001b[0m \u001b[0mcount1\u001b[0m\u001b[1;33m,\u001b[0m \u001b[0mcount2\u001b[0m\u001b[1;33m,\u001b[0m \u001b[0mcount3\u001b[0m\u001b[1;33m,\u001b[0m\u001b[0mcount4\u001b[0m\u001b[1;33m,\u001b[0m\u001b[0mcount5\u001b[0m \u001b[1;33m=\u001b[0m  \u001b[0mresolution_of_ambiguity\u001b[0m\u001b[1;33m(\u001b[0m\u001b[0msortCandidates\u001b[0m\u001b[1;33m,\u001b[0m \u001b[0mdictIdTitle\u001b[0m\u001b[1;33m,\u001b[0m \u001b[0mlabse\u001b[0m\u001b[1;33m,\u001b[0m \u001b[0mdictDisplay\u001b[0m\u001b[1;33m,\u001b[0m \u001b[0mdictWn\u001b[0m\u001b[1;33m)\u001b[0m\u001b[1;33m\u001b[0m\u001b[1;33m\u001b[0m\u001b[0m\n\u001b[0m\u001b[0;32m      2\u001b[0m \u001b[0mprint\u001b[0m\u001b[1;33m(\u001b[0m\u001b[1;34m\"len(dictDisplay)\"\u001b[0m\u001b[1;33m,\u001b[0m\u001b[0mlen\u001b[0m\u001b[1;33m(\u001b[0m\u001b[0mdictDisplay\u001b[0m\u001b[1;33m)\u001b[0m\u001b[1;33m)\u001b[0m\u001b[1;33m\u001b[0m\u001b[1;33m\u001b[0m\u001b[0m\n\u001b[0;32m      3\u001b[0m \u001b[0mprint\u001b[0m\u001b[1;33m(\u001b[0m\u001b[1;34m\"bed lemma counts\"\u001b[0m\u001b[1;33m,\u001b[0m\u001b[0mcount1\u001b[0m\u001b[1;33m)\u001b[0m\u001b[1;33m\u001b[0m\u001b[1;33m\u001b[0m\u001b[0m\n\u001b[0;32m      4\u001b[0m \u001b[0mprint\u001b[0m\u001b[1;33m(\u001b[0m\u001b[1;34m\"0 denominator count\"\u001b[0m\u001b[1;33m,\u001b[0m\u001b[0mcount2\u001b[0m\u001b[1;33m)\u001b[0m\u001b[1;33m\u001b[0m\u001b[1;33m\u001b[0m\u001b[0m\n\u001b[0;32m      5\u001b[0m \u001b[0mprint\u001b[0m\u001b[1;33m(\u001b[0m\u001b[1;34m\"count bad maxP\"\u001b[0m\u001b[1;33m,\u001b[0m\u001b[0mcount3\u001b[0m\u001b[1;33m)\u001b[0m\u001b[1;33m\u001b[0m\u001b[1;33m\u001b[0m\u001b[0m\n",
      "\u001b[1;31mValueError\u001b[0m: not enough values to unpack (expected 7, got 2)"
     ]
    }
   ],
   "source": [
    "dictSortCandidates, dictDisplay, count1, count2, count3,count4,count5 =  resolution_of_ambiguity(sortCandidates, dictIdTitle, labse, dictDisplay, dictWn)\n",
    "print(\"len(dictDisplay)\",len(dictDisplay)) \n",
    "print(\"bed lemma counts\",count1)\n",
    "print(\"0 denominator count\",count2)\n",
    "print(\"count bad maxP\",count3)\n",
    "print(\"lemma Synset is bad count\",count4)\n",
    "print(\"title to id not N\",count5)"
   ]
  },
  {
   "cell_type": "code",
   "execution_count": 36,
   "id": "0fa6104a-607a-4f1b-97b5-26b73f333b97",
   "metadata": {},
   "outputs": [
    {
     "name": "stderr",
     "output_type": "stream",
     "text": [
      "100%|███████████████████████████████████████████████████████████████████████████| 20502/20502 [01:12<00:00, 281.19it/s]\n"
     ]
    }
   ],
   "source": [
    "for key in dictSortCandidates:\n",
    "    temp = sorted(dictSortCandidates[key],key=lambda x: x[1], reverse = True)\n",
    "    dictSortCandidates[key] = temp\n",
    "candidates = open(\"D:\\\\lbase_data\\\\sortcandidates.txt\", \"w\", encoding=\"utf-8\")\n",
    "candidates1 = open(\"D:\\\\lbase_data\\\\sortcandidates1000.txt\", \"w\", encoding=\"utf-8\")\n",
    "i = 0\n",
    "for key in tqdm(dictSortCandidates):\n",
    "    s = \"id synset: \"+str(key) + \"\\tsynset title: \" + dictIdTitle[key] + \"\\n\" \n",
    "    lemmaSynset = getLemmaForSynsets(dictIdTitle[key])\n",
    "    if lemmaSynset != \"\" :\n",
    "        idWn = wn.get_senses(lemmaSynset)[0].id\n",
    "        if \"N\" in idWn:\n",
    "            s += \"Ctx synset: \" + \",\".join(list(dictWn[idWn].ctx)) + \"\\n\"\n",
    "        else:\n",
    "            s += \"id for N is A. lemma: \" + lemmaSynset + \"\\n\"\n",
    "    else:\n",
    "        s += \"lemmasynset not found\\n\" \n",
    "    for elem in dictSortCandidates[key]:\n",
    "        s += \"title: \" + elem[0].page.title +\" id = \" + elem[0].page.id + \" \" + str(elem[1]) + \"\\n\"\n",
    "        s += \"ctx article:\" +\",\".join(list(extractCtxW(elem[0].page.links,elem[0].page.categories))) +\"\\n\"\n",
    "    s += \"\\n\"\n",
    "    print(s, file = candidates)\n",
    "    if i < 1000:\n",
    "        print(s, file = candidates1) \n",
    "    i += 1\n",
    "candidates.close()\n",
    "candidates1.close()"
   ]
  },
  {
   "cell_type": "code",
   "execution_count": 37,
   "id": "cb572f48",
   "metadata": {},
   "outputs": [],
   "source": [
    "# сохранение dictDisplay\n",
    "file = open(\"D:\\\\lbase_data\\\\dictDisplay3.txt\", \"wb\")\n",
    "pickle.dump(dictDisplay, file=file)\n",
    "file.close()"
   ]
  },
  {
   "cell_type": "code",
   "execution_count": 54,
   "id": "dc02f8a1",
   "metadata": {},
   "outputs": [],
   "source": [
    "file = open(\"D:\\\\lbase_data\\\\dictDisplay3.txt\", \"rb\")\n",
    "unpickler = pickle.Unpickler(file)\n",
    "dictDisplay = unpickler.load()\n",
    "file.close()"
   ]
  },
  {
   "cell_type": "code",
   "execution_count": 38,
   "id": "81fbb085",
   "metadata": {},
   "outputs": [
    {
     "name": "stderr",
     "output_type": "stream",
     "text": [
      "100%|████████████████████████████████████████████████████████████████████████| 22313/22313 [00:00<00:00, 429099.71it/s]\n"
     ]
    }
   ],
   "source": [
    "file = open(\"D:\\\\lbase_data\\\\thirdpart.txt\",\"w\", encoding=\"utf-8\")\n",
    "for key in tqdm(dictDisplay):\n",
    "    temp = \"id:  \"+str(dictDisplay[key].id) + \" wordId: \" + str(dictDisplay[key].wordId) + \" title: \"+str(dictDisplay[key].title) +\" lemma: \"+str(dictDisplay[key].lemma) + '\\n'\n",
    "    file.write(temp)\n",
    "file.close()"
   ]
  },
  {
   "cell_type": "code",
   "execution_count": 55,
   "id": "eea0f596-8063-492a-ba25-f32490084ff5",
   "metadata": {},
   "outputs": [
    {
     "data": {
      "text/plain": [
       "(4603, 19878, 22313)"
      ]
     },
     "execution_count": 55,
     "metadata": {},
     "output_type": "execute_result"
    }
   ],
   "source": [
    "#собираем отображения  связанные содним wordId\n",
    "dict_wordId_in_display_and_key = defaultdict(list)\n",
    "for key, value in dictDisplay.items():\n",
    "    dict_wordId_in_display_and_key[value.wordId].append((key,value))\n",
    "i  = 0\n",
    "for key, value in dict_wordId_in_display_and_key.items():\n",
    "    if len(value) > 1:\n",
    "        i+=len(value)\n",
    "i, len(dict_wordId_in_display_and_key), len(dictDisplay)"
   ]
  },
  {
   "cell_type": "code",
   "execution_count": 56,
   "id": "75628e72",
   "metadata": {},
   "outputs": [
    {
     "data": {
      "text/plain": [
       "(2168, 17710)"
      ]
     },
     "execution_count": 56,
     "metadata": {},
     "output_type": "execute_result"
    }
   ],
   "source": [
    "#удалим из dictDisplay повторяющиеся wordId\n",
    "for key, value in dict_wordId_in_display_and_key.items():\n",
    "    if len(value) > 1:\n",
    "        for item in value:\n",
    "            del dictDisplay[item[0]]\n",
    "#удалим из dict_wordId_in_display_and_key однозначные отображенния\n",
    "dict_wordId_in_display_and_key_new = defaultdict(list)\n",
    "for key, value in dict_wordId_in_display_and_key.items():\n",
    "    if len(value) > 1:\n",
    "        dict_wordId_in_display_and_key_new[key] = value\n",
    "len(dict_wordId_in_display_and_key_new), len(dictDisplay)"
   ]
  },
  {
   "cell_type": "code",
   "execution_count": 57,
   "id": "cade63db",
   "metadata": {},
   "outputs": [
    {
     "data": {
      "text/plain": [
       "[('Компьютерный язык',\n",
       "  display(id='2661', revid='2184205', title='Компьютерный язык', lemma='КОМПЬЮТЕРНЫЙ ЯЗЫК', wordId='7651-N', ctxW={'каскадный таблица стиль', 'язык разметка', 'компьютер', 'язык описание аппаратура', 'компьютерный техника', 'язык спецификация', 'протокол обмен', 'информационный язык', 'компьютерный сленг', 'компьютерный язык', 'язык', 'псевдоестественный язык', 'сетевой протокол', 'сценарный язык', 'язык программирование', 'программист'}, first_sentense='Понятие компью́терный язы́к (калька с ), как правило, относится к языкам, ассоциируемым с компьютерной техникой')),\n",
       " ('Язык программирования',\n",
       "  display(id='2728', revid='121215610', title='Язык программирования', lemma='ЯЗЫК ПРОГРАММИРОВАНИЯ', wordId='7651-N', ctxW={'симула', 'логика первый порядок', 'системный программирование', 'зависимый тип', 'компьютер', 'приведение тип', 'планкалкюль', 'тест производительность', 'утечка память', 'стандарт оформление код', 'мемоизация', 'хоар', 'структурный программирование', 'исполнимый модуль', 'алгол', 'сериализация', 'интерпретатор', 'механический пианино', 'исходный код', 'музыкальный шкатулка', 'регистр процессор', 'кобол', 'статический типизация', 'серебряный пуля нет', 'теория язык программирование', 'качество по', 'теория категория', 'визуальный программирование', 'человеческий фактор', 'структура данные', 'цуза', 'статический анализ код', 'гомоморфизм', 'прототипный программирование', 'компьютерный программа', 'компилировать язык программирование', 'япония', 'каламбур типизация', 'субд', 'метакласс', 'айверсон', 'бэббидж', 'реляционный исчисление', 'гомоиконичность', 'объект первый класс', 'турчин', 'архитектура процессор', 'система модуль', 'язык программирование', 'лавров', 'программист', 'программирование', 'исчисление кортеж', 'кэй', 'деление на ноль', 'поисковый система', 'транслятор', 'брайан керниган', 'тьюринг', 'типобезопасность', 'процедурный программирование', 'миллиметр', 'вычислительный процесс', 'сопоставление с образец', 'чистота язык программирование', 'символьный вычисление', 'аксиоматический семантика', 'композиция функция', 'число бернулли', 'оптимизация хвостовой вызов', 'структура и интерпретация компьютерный программа', 'конкатенативный язык программирование', 'дюйм', 'информатика', 'гласс', 'аппаратный платформа компьютер', 'формальный язык', 'лисп', 'межпроцедурный оптимизация', 'переписывание', 'высокий доступность', 'обработка исключение', 'шаблон проектирование', 'лавлейс', 'модель актор', 'ссср', 'математический логика', 'стековый язык', 'исчисление процесс', 'функция первый класс', 'ссылочный прозрачность', 'компьютерный язык', 'оптимизировать компилятор', 'полиморфизм роды', 'формальный верификация', 'управление память на основа регион', 'машинный язык', 'машина тьюринг', 'фортран', 'добросвета', 'метапрограммирование', 'контрактный программирование', 'джон мокнуть', 'тип данные', 'фредерик брукс', 'эзотерический язык программирование', 'параллельный вычисление', 'выведение тип', 'система тип', 'подпрограмма', 'кнорусый', 'мейнстрим', 'поколение язык программирование', 'безопасность доступ к память', 'сборка мусор', 'интуиционистский теория тип', 'параметрический полиморфизм', 'документация на программный обеспечение', 'целый тип', 'теория автомат', 'область видимость', 'лексика', 'марков', 'модульный программирование', 'интернет', 'функциональный программирование', 'динамический типизация', 'низкоуровневый язык программирование', 'ассемблер', 'анализ поток управление', 'алгоритм', 'язык программирование высокий уровень', 'интерфейс', 'программный средство', 'полнота по тьюринг', 'брукс', 'виртуализация', 'милнер', 'метаязык', 'международный стандартизация', 'спецификация язык программирование', 'качество программный обеспечение', 'естественный язык', 'архитектура фон нейман', 'стратегия вычисление', 'функция высокий порядок', 'крах программный обеспечение', 'конструктор тип', 'проектирование программный обеспечение', 'теория множество', 'комбинаторный логика', 'машинный код', 'раскраска граф', 'программирование ограничение', 'язык ассемблер', 'макрокоманда', 'алгоритмический неразрешимость', 'регулярный выражение', 'операционный семантика', 'императивный программирование', 'виртуальный машина', 'сигнатура функция', 'интерфейс командный строка', 'учебный язык программирование', 'логический программирование', 'жаккардовый ткацкий станок', 'класс тип', 'бестиповыя язык', 'суперкомпиляция', 'повторный использование код', 'регулярный язык', 'оптимизация хвостовой рекурсия', 'дейкстра', 'шестибитный кодировка', 'игрушечный язык', 'сша', 'комбинатор', 'строковый тип', 'безопасность язык', 'теория порядок', 'декларативный программирование', 'рефал', 'база данные', 'порождать программирование', 'сильный и слабый типизация', 'грамматика с фразовый структура', 'логика высокий порядок', 'автоматический доказательство', 'нормальный алгоритм', 'автокод', 'интерпретировать язык программирование', 'денотационный семантика', 'вирт', 'операционный система', 'юникод', 'полиморфизм в высокий роды', 'исчисление предикат', 'процессорный время', 'компилятор'}, first_sentense='Язы́к программи́рования\\xa0— формальный язык, предназначенный для записи компьютерных программ'))]"
      ]
     },
     "execution_count": 57,
     "metadata": {},
     "output_type": "execute_result"
    }
   ],
   "source": [
    "dict_wordId_in_display_and_key_new[\"7651-N\"]"
   ]
  },
  {
   "cell_type": "code",
   "execution_count": 58,
   "id": "7b6231ca",
   "metadata": {},
   "outputs": [
    {
     "name": "stderr",
     "output_type": "stream",
     "text": [
      "100%|██████████████████████████████████████████████████████████████████████████████| 2168/2168 [00:51<00:00, 42.31it/s]\n"
     ]
    }
   ],
   "source": [
    "#проведем похожий третьему этапу обор кандидатов\n",
    "dictIdTitle = {}\n",
    "i = 0\n",
    "for synset in wn.synsets:\n",
    "    dictIdTitle[synset.id] = synset.title\n",
    "for key, value in tqdm(dict_wordId_in_display_and_key_new.items()):\n",
    "    lemmaSynset = getLemmaForSynsets(wn[str(key)].title.lower())\n",
    "    if lemmaSynset:\n",
    "        idWn = wn.get_senses(lemmaSynset)[0].id \n",
    "        if \"N\" in idWn:\n",
    "            ctxS = dictWn[idWn].ctx\n",
    "            maxP = -1\n",
    "            arg_max = 0\n",
    "            for item in value:\n",
    "                numerator = score(ctxS, item[1].ctxW)\n",
    "                deniminator = 0.0\n",
    "                for num in value:\n",
    "                    deniminator += score(ctxS, num[1].ctxW)\n",
    "                p = cosin_distance(lemmaSynset, item[1].first_sentense, labse)\n",
    "                if deniminator != 0.0:\n",
    "                    p += numerator/deniminator\n",
    "                if p > maxP:\n",
    "                    maxP = p\n",
    "                    arg_max = item\n",
    "            if maxP != -1:\n",
    "                dictDisplay[arg_max[0]] = arg_max[1]\n",
    "            else:\n",
    "                i+=1\n",
    "#                 print(f\"denominator = 0 for all candidates for key:{key} synset is {wn[str(key)].title}\")\n",
    "        else:\n",
    "            i+=1\n",
    "#             print(f\"lemma for key {key} is not noun, lemmaSynset is {lemmaSynset} for sysnet {wn[str(key)].title}\")        \n",
    "    else:\n",
    "        i+=1\n",
    "#         print(f\"lemmaSynset for key {key} is none, synset is {wn[str(key)].title}\")"
   ]
  },
  {
   "cell_type": "code",
   "execution_count": 59,
   "id": "f991a092",
   "metadata": {},
   "outputs": [
    {
     "data": {
      "text/plain": [
       "(19775, 103)"
      ]
     },
     "execution_count": 59,
     "metadata": {},
     "output_type": "execute_result"
    }
   ],
   "source": [
    "len(dictDisplay), i"
   ]
  },
  {
   "cell_type": "code",
   "execution_count": 60,
   "id": "0c5a88b4",
   "metadata": {},
   "outputs": [],
   "source": [
    "# сохранение dictDisplay\n",
    "# file = open(\"D:\\\\lbase_data\\\\dictDisplay4.txt\", \"wb\")\n",
    "# pickle.dump(dictDisplay, file=file)\n",
    "# file.close()"
   ]
  },
  {
   "cell_type": "code",
   "execution_count": 9,
   "id": "b857a9b0",
   "metadata": {},
   "outputs": [],
   "source": [
    "file = open(\"D:\\\\lbase_data\\\\dictDisplay4.txt\", \"rb\")\n",
    "unpickler = pickle.Unpickler(file)\n",
    "dictDisplay = unpickler.load()\n",
    "file.close()"
   ]
  },
  {
   "cell_type": "code",
   "execution_count": 10,
   "id": "3fdb1672",
   "metadata": {},
   "outputs": [
    {
     "data": {
      "text/plain": [
       "19775"
      ]
     },
     "execution_count": 10,
     "metadata": {},
     "output_type": "execute_result"
    }
   ],
   "source": [
    "len(dictDisplay)"
   ]
  },
  {
   "cell_type": "code",
   "execution_count": 62,
   "id": "65735ac3",
   "metadata": {},
   "outputs": [
    {
     "name": "stderr",
     "output_type": "stream",
     "text": [
      "100%|████████████████████████████████████████████████████████████████████████| 19775/19775 [00:00<00:00, 520406.33it/s]\n"
     ]
    }
   ],
   "source": [
    "file = open(\"D:\\\\lbase_data\\\\fourthpart.txt\",\"w\", encoding=\"utf-8\")\n",
    "for key in tqdm(dictDisplay):\n",
    "    temp = \"id:  \"+str(dictDisplay[key].id) + \" wordId: \" + str(dictDisplay[key].wordId) + \" title: \"+str(dictDisplay[key].title) +\" lemma: \"+str(dictDisplay[key].lemma) + '\\n'\n",
    "    file.write(temp)\n",
    "file.close()"
   ]
  },
  {
   "cell_type": "code",
   "execution_count": 11,
   "id": "d728cb94",
   "metadata": {},
   "outputs": [
    {
     "data": {
      "text/html": [
       "<div>\n",
       "<style scoped>\n",
       "    .dataframe tbody tr th:only-of-type {\n",
       "        vertical-align: middle;\n",
       "    }\n",
       "\n",
       "    .dataframe tbody tr th {\n",
       "        vertical-align: top;\n",
       "    }\n",
       "\n",
       "    .dataframe thead th {\n",
       "        text-align: right;\n",
       "    }\n",
       "</style>\n",
       "<table border=\"1\" class=\"dataframe\">\n",
       "  <thead>\n",
       "    <tr style=\"text-align: right;\">\n",
       "      <th></th>\n",
       "      <th>Unnamed: 0</th>\n",
       "      <th>synset_id</th>\n",
       "      <th>wiki_title</th>\n",
       "      <th>annotation</th>\n",
       "      <th>wiki_title_gold</th>\n",
       "    </tr>\n",
       "  </thead>\n",
       "  <tbody>\n",
       "    <tr>\n",
       "      <th>0</th>\n",
       "      <td>0</td>\n",
       "      <td>115195-N</td>\n",
       "      <td>Облава</td>\n",
       "      <td>Да</td>\n",
       "      <td>Облава</td>\n",
       "    </tr>\n",
       "    <tr>\n",
       "      <th>1</th>\n",
       "      <td>1</td>\n",
       "      <td>128158-N</td>\n",
       "      <td>Шаньдун</td>\n",
       "      <td>Да</td>\n",
       "      <td>Шаньдун</td>\n",
       "    </tr>\n",
       "    <tr>\n",
       "      <th>2</th>\n",
       "      <td>2</td>\n",
       "      <td>143699-N</td>\n",
       "      <td>Оксюморон</td>\n",
       "      <td>Да</td>\n",
       "      <td>Оксюморон</td>\n",
       "    </tr>\n",
       "    <tr>\n",
       "      <th>3</th>\n",
       "      <td>3</td>\n",
       "      <td>4061-N</td>\n",
       "      <td>Доверенность</td>\n",
       "      <td>Да</td>\n",
       "      <td>Доверенность</td>\n",
       "    </tr>\n",
       "    <tr>\n",
       "      <th>4</th>\n",
       "      <td>5</td>\n",
       "      <td>136544-N</td>\n",
       "      <td>Шахматная доска</td>\n",
       "      <td>Да</td>\n",
       "      <td>Шахматная доска</td>\n",
       "    </tr>\n",
       "    <tr>\n",
       "      <th>...</th>\n",
       "      <td>...</td>\n",
       "      <td>...</td>\n",
       "      <td>...</td>\n",
       "      <td>...</td>\n",
       "      <td>...</td>\n",
       "    </tr>\n",
       "    <tr>\n",
       "      <th>1725</th>\n",
       "      <td>1993</td>\n",
       "      <td>113701-N</td>\n",
       "      <td>Царю небесный</td>\n",
       "      <td>Нет</td>\n",
       "      <td>Бог</td>\n",
       "    </tr>\n",
       "    <tr>\n",
       "      <th>1726</th>\n",
       "      <td>1994</td>\n",
       "      <td>124807-N</td>\n",
       "      <td>Наставничество</td>\n",
       "      <td>Да</td>\n",
       "      <td>Наставничество</td>\n",
       "    </tr>\n",
       "    <tr>\n",
       "      <th>1727</th>\n",
       "      <td>1995</td>\n",
       "      <td>9199-N</td>\n",
       "      <td>Трансурановые элементы</td>\n",
       "      <td>Да</td>\n",
       "      <td>Трансурановые элементы</td>\n",
       "    </tr>\n",
       "    <tr>\n",
       "      <th>1728</th>\n",
       "      <td>1996</td>\n",
       "      <td>103410-N</td>\n",
       "      <td>Эсватини</td>\n",
       "      <td>Да</td>\n",
       "      <td>Эсватини</td>\n",
       "    </tr>\n",
       "    <tr>\n",
       "      <th>1729</th>\n",
       "      <td>1998</td>\n",
       "      <td>141998-N</td>\n",
       "      <td>Землянка</td>\n",
       "      <td>Да</td>\n",
       "      <td>Землянка</td>\n",
       "    </tr>\n",
       "  </tbody>\n",
       "</table>\n",
       "<p>1730 rows × 5 columns</p>\n",
       "</div>"
      ],
      "text/plain": [
       "      Unnamed: 0 synset_id              wiki_title annotation  \\\n",
       "0              0  115195-N                  Облава         Да   \n",
       "1              1  128158-N                 Шаньдун         Да   \n",
       "2              2  143699-N               Оксюморон         Да   \n",
       "3              3    4061-N            Доверенность         Да   \n",
       "4              5  136544-N         Шахматная доска         Да   \n",
       "...          ...       ...                     ...        ...   \n",
       "1725        1993  113701-N           Царю небесный        Нет   \n",
       "1726        1994  124807-N          Наставничество         Да   \n",
       "1727        1995    9199-N  Трансурановые элементы         Да   \n",
       "1728        1996  103410-N                Эсватини         Да   \n",
       "1729        1998  141998-N                Землянка         Да   \n",
       "\n",
       "             wiki_title_gold  \n",
       "0                     Облава  \n",
       "1                    Шаньдун  \n",
       "2                  Оксюморон  \n",
       "3               Доверенность  \n",
       "4            Шахматная доска  \n",
       "...                      ...  \n",
       "1725                     Бог  \n",
       "1726          Наставничество  \n",
       "1727  Трансурановые элементы  \n",
       "1728                Эсватини  \n",
       "1729                Землянка  \n",
       "\n",
       "[1730 rows x 5 columns]"
      ]
     },
     "execution_count": 11,
     "metadata": {},
     "output_type": "execute_result"
    }
   ],
   "source": [
    "import pandas as pd\n",
    "df = pd.read_csv(\"D:\\\\lbase_data\\\\wiki_merge_predict_test_29_11_22.csv\")\n",
    "df"
   ]
  },
  {
   "cell_type": "code",
   "execution_count": 12,
   "id": "9799b662",
   "metadata": {},
   "outputs": [],
   "source": [
    "synset_id = set(df[\"synset_id\"].values)"
   ]
  },
  {
   "cell_type": "code",
   "execution_count": 13,
   "id": "28891b59",
   "metadata": {},
   "outputs": [
    {
     "name": "stderr",
     "output_type": "stream",
     "text": [
      "100%|███████████████████████████████████████████████████████████████████████| 19775/19775 [00:00<00:00, 2472275.23it/s]\n"
     ]
    }
   ],
   "source": [
    "dict_for_check = {}\n",
    "for key, value in tqdm(dictDisplay.items()):\n",
    "    if value.wordId in synset_id:\n",
    "        dict_for_check[value.wordId] = value.title"
   ]
  },
  {
   "cell_type": "code",
   "execution_count": 14,
   "id": "323495d8",
   "metadata": {},
   "outputs": [
    {
     "name": "stderr",
     "output_type": "stream",
     "text": [
      "C:\\Users\\Professional\\AppData\\Local\\Temp\\ipykernel_1608\\3563258175.py:3: SettingWithCopyWarning: \n",
      "A value is trying to be set on a copy of a slice from a DataFrame.\n",
      "Try using .loc[row_indexer,col_indexer] = value instead\n",
      "\n",
      "See the caveats in the documentation: https://pandas.pydata.org/pandas-docs/stable/user_guide/indexing.html#returning-a-view-versus-a-copy\n",
      "  dataset[\"wiki_title\"] = for_apply.apply(lambda x: dict_for_check[x] if x in dict_for_check else \"не связан\")\n"
     ]
    },
    {
     "data": {
      "text/html": [
       "<div>\n",
       "<style scoped>\n",
       "    .dataframe tbody tr th:only-of-type {\n",
       "        vertical-align: middle;\n",
       "    }\n",
       "\n",
       "    .dataframe tbody tr th {\n",
       "        vertical-align: top;\n",
       "    }\n",
       "\n",
       "    .dataframe thead th {\n",
       "        text-align: right;\n",
       "    }\n",
       "</style>\n",
       "<table border=\"1\" class=\"dataframe\">\n",
       "  <thead>\n",
       "    <tr style=\"text-align: right;\">\n",
       "      <th></th>\n",
       "      <th>synset_id</th>\n",
       "      <th>wiki_title_gold</th>\n",
       "      <th>wiki_title</th>\n",
       "    </tr>\n",
       "  </thead>\n",
       "  <tbody>\n",
       "    <tr>\n",
       "      <th>0</th>\n",
       "      <td>115195-N</td>\n",
       "      <td>Облава</td>\n",
       "      <td>Облава</td>\n",
       "    </tr>\n",
       "    <tr>\n",
       "      <th>1</th>\n",
       "      <td>128158-N</td>\n",
       "      <td>Шаньдун</td>\n",
       "      <td>Шаньдун</td>\n",
       "    </tr>\n",
       "    <tr>\n",
       "      <th>2</th>\n",
       "      <td>143699-N</td>\n",
       "      <td>Оксюморон</td>\n",
       "      <td>Оксюморон</td>\n",
       "    </tr>\n",
       "    <tr>\n",
       "      <th>3</th>\n",
       "      <td>4061-N</td>\n",
       "      <td>Доверенность</td>\n",
       "      <td>Доверенность</td>\n",
       "    </tr>\n",
       "    <tr>\n",
       "      <th>4</th>\n",
       "      <td>136544-N</td>\n",
       "      <td>Шахматная доска</td>\n",
       "      <td>не связан</td>\n",
       "    </tr>\n",
       "    <tr>\n",
       "      <th>...</th>\n",
       "      <td>...</td>\n",
       "      <td>...</td>\n",
       "      <td>...</td>\n",
       "    </tr>\n",
       "    <tr>\n",
       "      <th>1725</th>\n",
       "      <td>113701-N</td>\n",
       "      <td>Бог</td>\n",
       "      <td>Бог</td>\n",
       "    </tr>\n",
       "    <tr>\n",
       "      <th>1726</th>\n",
       "      <td>124807-N</td>\n",
       "      <td>Наставничество</td>\n",
       "      <td>Наставничество</td>\n",
       "    </tr>\n",
       "    <tr>\n",
       "      <th>1727</th>\n",
       "      <td>9199-N</td>\n",
       "      <td>Трансурановые элементы</td>\n",
       "      <td>Трансурановые элементы</td>\n",
       "    </tr>\n",
       "    <tr>\n",
       "      <th>1728</th>\n",
       "      <td>103410-N</td>\n",
       "      <td>Эсватини</td>\n",
       "      <td>Эсватини</td>\n",
       "    </tr>\n",
       "    <tr>\n",
       "      <th>1729</th>\n",
       "      <td>141998-N</td>\n",
       "      <td>Землянка</td>\n",
       "      <td>Землянка</td>\n",
       "    </tr>\n",
       "  </tbody>\n",
       "</table>\n",
       "<p>1730 rows × 3 columns</p>\n",
       "</div>"
      ],
      "text/plain": [
       "     synset_id         wiki_title_gold              wiki_title\n",
       "0     115195-N                  Облава                  Облава\n",
       "1     128158-N                 Шаньдун                 Шаньдун\n",
       "2     143699-N               Оксюморон               Оксюморон\n",
       "3       4061-N            Доверенность            Доверенность\n",
       "4     136544-N         Шахматная доска               не связан\n",
       "...        ...                     ...                     ...\n",
       "1725  113701-N                     Бог                     Бог\n",
       "1726  124807-N          Наставничество          Наставничество\n",
       "1727    9199-N  Трансурановые элементы  Трансурановые элементы\n",
       "1728  103410-N                Эсватини                Эсватини\n",
       "1729  141998-N                Землянка                Землянка\n",
       "\n",
       "[1730 rows x 3 columns]"
      ]
     },
     "execution_count": 14,
     "metadata": {},
     "output_type": "execute_result"
    }
   ],
   "source": [
    "dataset = df[[\"synset_id\", \"wiki_title_gold\"]]\n",
    "for_apply = df[\"synset_id\"]\n",
    "dataset[\"wiki_title\"] = for_apply.apply(lambda x: dict_for_check[x] if x in dict_for_check else \"не связан\")\n",
    "dataset"
   ]
  },
  {
   "cell_type": "code",
   "execution_count": 15,
   "id": "2ee7ae30",
   "metadata": {},
   "outputs": [
    {
     "data": {
      "text/plain": [
       "0.7416184971098266"
      ]
     },
     "execution_count": 15,
     "metadata": {},
     "output_type": "execute_result"
    }
   ],
   "source": [
    "from sklearn.metrics import accuracy_score\n",
    "y_pred = dataset[\"wiki_title\"].values\n",
    "y_true = dataset[\"wiki_title_gold\"].values\n",
    "accuracy_score(y_true, y_pred)"
   ]
  },
  {
   "cell_type": "code",
   "execution_count": 34,
   "id": "a15bf71b",
   "metadata": {},
   "outputs": [
    {
     "name": "stderr",
     "output_type": "stream",
     "text": [
      "C:\\Users\\Professional\\AppData\\Local\\Temp\\ipykernel_1608\\3488646552.py:3: SettingWithCopyWarning: \n",
      "A value is trying to be set on a copy of a slice from a DataFrame.\n",
      "Try using .loc[row_indexer,col_indexer] = value instead\n",
      "\n",
      "See the caveats in the documentation: https://pandas.pydata.org/pandas-docs/stable/user_guide/indexing.html#returning-a-view-versus-a-copy\n",
      "  dataset[\"multi\"] = for_apply.apply(lambda x: 0 if len(wn.get_synsets(x)) == 1 else 1)\n"
     ]
    },
    {
     "data": {
      "text/html": [
       "<div>\n",
       "<style scoped>\n",
       "    .dataframe tbody tr th:only-of-type {\n",
       "        vertical-align: middle;\n",
       "    }\n",
       "\n",
       "    .dataframe tbody tr th {\n",
       "        vertical-align: top;\n",
       "    }\n",
       "\n",
       "    .dataframe thead th {\n",
       "        text-align: right;\n",
       "    }\n",
       "</style>\n",
       "<table border=\"1\" class=\"dataframe\">\n",
       "  <thead>\n",
       "    <tr style=\"text-align: right;\">\n",
       "      <th></th>\n",
       "      <th>synset_id</th>\n",
       "      <th>wiki_title_gold</th>\n",
       "      <th>wiki_title</th>\n",
       "      <th>multi</th>\n",
       "    </tr>\n",
       "  </thead>\n",
       "  <tbody>\n",
       "    <tr>\n",
       "      <th>0</th>\n",
       "      <td>115195-N</td>\n",
       "      <td>Облава</td>\n",
       "      <td>Облава</td>\n",
       "      <td>1</td>\n",
       "    </tr>\n",
       "    <tr>\n",
       "      <th>1</th>\n",
       "      <td>128158-N</td>\n",
       "      <td>Шаньдун</td>\n",
       "      <td>Шаньдун</td>\n",
       "      <td>0</td>\n",
       "    </tr>\n",
       "    <tr>\n",
       "      <th>2</th>\n",
       "      <td>143699-N</td>\n",
       "      <td>Оксюморон</td>\n",
       "      <td>Оксюморон</td>\n",
       "      <td>0</td>\n",
       "    </tr>\n",
       "    <tr>\n",
       "      <th>3</th>\n",
       "      <td>4061-N</td>\n",
       "      <td>Доверенность</td>\n",
       "      <td>Доверенность</td>\n",
       "      <td>0</td>\n",
       "    </tr>\n",
       "    <tr>\n",
       "      <th>4</th>\n",
       "      <td>136544-N</td>\n",
       "      <td>Шахматная доска</td>\n",
       "      <td>не связан</td>\n",
       "      <td>1</td>\n",
       "    </tr>\n",
       "    <tr>\n",
       "      <th>...</th>\n",
       "      <td>...</td>\n",
       "      <td>...</td>\n",
       "      <td>...</td>\n",
       "      <td>...</td>\n",
       "    </tr>\n",
       "    <tr>\n",
       "      <th>1725</th>\n",
       "      <td>113701-N</td>\n",
       "      <td>Бог</td>\n",
       "      <td>Бог</td>\n",
       "      <td>0</td>\n",
       "    </tr>\n",
       "    <tr>\n",
       "      <th>1726</th>\n",
       "      <td>124807-N</td>\n",
       "      <td>Наставничество</td>\n",
       "      <td>Наставничество</td>\n",
       "      <td>0</td>\n",
       "    </tr>\n",
       "    <tr>\n",
       "      <th>1727</th>\n",
       "      <td>9199-N</td>\n",
       "      <td>Трансурановые элементы</td>\n",
       "      <td>Трансурановые элементы</td>\n",
       "      <td>1</td>\n",
       "    </tr>\n",
       "    <tr>\n",
       "      <th>1728</th>\n",
       "      <td>103410-N</td>\n",
       "      <td>Эсватини</td>\n",
       "      <td>Эсватини</td>\n",
       "      <td>1</td>\n",
       "    </tr>\n",
       "    <tr>\n",
       "      <th>1729</th>\n",
       "      <td>141998-N</td>\n",
       "      <td>Землянка</td>\n",
       "      <td>Землянка</td>\n",
       "      <td>0</td>\n",
       "    </tr>\n",
       "  </tbody>\n",
       "</table>\n",
       "<p>1730 rows × 4 columns</p>\n",
       "</div>"
      ],
      "text/plain": [
       "     synset_id         wiki_title_gold              wiki_title  multi\n",
       "0     115195-N                  Облава                  Облава      1\n",
       "1     128158-N                 Шаньдун                 Шаньдун      0\n",
       "2     143699-N               Оксюморон               Оксюморон      0\n",
       "3       4061-N            Доверенность            Доверенность      0\n",
       "4     136544-N         Шахматная доска               не связан      1\n",
       "...        ...                     ...                     ...    ...\n",
       "1725  113701-N                     Бог                     Бог      0\n",
       "1726  124807-N          Наставничество          Наставничество      0\n",
       "1727    9199-N  Трансурановые элементы  Трансурановые элементы      1\n",
       "1728  103410-N                Эсватини                Эсватини      1\n",
       "1729  141998-N                Землянка                Землянка      0\n",
       "\n",
       "[1730 rows x 4 columns]"
      ]
     },
     "execution_count": 34,
     "metadata": {},
     "output_type": "execute_result"
    }
   ],
   "source": [
    "for_apply = df[\"wiki_title_gold\"].copy()\n",
    "wn = RuWordNet(filename_or_session='D:\\\\lbase_data\\\\ruwordnet.db')\n",
    "dataset[\"multi\"] = for_apply.apply(lambda x: 0 if len(wn.get_synsets(x)) == 1 else 1)\n",
    "dataset"
   ]
  },
  {
   "cell_type": "code",
   "execution_count": 30,
   "id": "9950ba19",
   "metadata": {},
   "outputs": [
    {
     "name": "stdout",
     "output_type": "stream",
     "text": [
      "[Synset(id=\"128158-N\", title=\"ШАНЬДУН\")]\n"
     ]
    }
   ],
   "source": [
    "print(wn.get_synsets(\"Шаньдун\"))"
   ]
  },
  {
   "cell_type": "code",
   "execution_count": 37,
   "id": "d4c4b39c",
   "metadata": {},
   "outputs": [
    {
     "data": {
      "text/plain": [
       "0.7959183673469388"
      ]
     },
     "execution_count": 37,
     "metadata": {},
     "output_type": "execute_result"
    }
   ],
   "source": [
    "y_true = dataset.loc[dataset['multi'] == 0, 'wiki_title_gold'].values\n",
    "y_pred = dataset.loc[dataset['multi'] == 0, 'wiki_title'].values\n",
    "accuracy_score(y_true, y_pred)"
   ]
  },
  {
   "cell_type": "code",
   "execution_count": 38,
   "id": "c0e80462",
   "metadata": {},
   "outputs": [
    {
     "data": {
      "text/plain": [
       "0.6706666666666666"
      ]
     },
     "execution_count": 38,
     "metadata": {},
     "output_type": "execute_result"
    }
   ],
   "source": [
    "y_true = dataset.loc[dataset['multi'] == 1, 'wiki_title_gold'].values\n",
    "y_pred = dataset.loc[dataset['multi'] == 1, 'wiki_title'].values\n",
    "accuracy_score(y_true, y_pred)"
   ]
  },
  {
   "cell_type": "code",
   "execution_count": 39,
   "id": "0fb760e6",
   "metadata": {},
   "outputs": [
    {
     "name": "stderr",
     "output_type": "stream",
     "text": [
      "100%|███████████████████████████████████████████████████████████████████████| 22313/22313 [00:00<00:00, 1487522.93it/s]\n"
     ]
    }
   ],
   "source": [
    "file = open(\"D:\\\\lbase_data\\\\dictDisplay3.txt\", \"rb\")\n",
    "unpickler = pickle.Unpickler(file)\n",
    "dictDisplay3 = unpickler.load()\n",
    "file.close()\n",
    "dict_synset_in_title = defaultdict(list)\n",
    "for key, value in tqdm(dictDisplay3.items()):\n",
    "    dict_synset_in_title[value.wordId].append(value)"
   ]
  },
  {
   "cell_type": "code",
   "execution_count": 46,
   "id": "43edf3d3",
   "metadata": {},
   "outputs": [
    {
     "name": "stderr",
     "output_type": "stream",
     "text": [
      "  0%|                                                                                        | 0/19878 [00:00<?, ?it/s]"
     ]
    },
    {
     "name": "stdout",
     "output_type": "stream",
     "text": [
      "['Компьютерный язык', 'Язык программирования']\n",
      "Synset(id=\"7651-N\", title=\"ЯЗЫК ПРОГРАММИРОВАНИЯ\")\n"
     ]
    },
    {
     "name": "stderr",
     "output_type": "stream",
     "text": [
      "\n"
     ]
    }
   ],
   "source": [
    "for key, value in tqdm(dict_synset_in_title.items()):\n",
    "    if len(value) > 1:\n",
    "        print(list([value.title for value in value]))\n",
    "        print(wn[key])\n",
    "        break"
   ]
  },
  {
   "cell_type": "code",
   "execution_count": null,
   "id": "04e0b89b",
   "metadata": {},
   "outputs": [],
   "source": []
  }
 ],
 "metadata": {
  "kernelspec": {
   "display_name": "Python 3 (ipykernel)",
   "language": "python",
   "name": "python3"
  },
  "language_info": {
   "codemirror_mode": {
    "name": "ipython",
    "version": 3
   },
   "file_extension": ".py",
   "mimetype": "text/x-python",
   "name": "python",
   "nbconvert_exporter": "python",
   "pygments_lexer": "ipython3",
   "version": "3.9.13"
  }
 },
 "nbformat": 4,
 "nbformat_minor": 5
}
