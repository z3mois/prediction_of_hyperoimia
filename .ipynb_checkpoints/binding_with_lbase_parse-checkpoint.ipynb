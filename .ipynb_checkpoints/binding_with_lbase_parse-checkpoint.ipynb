{
 "cells": [
  {
   "cell_type": "code",
   "execution_count": 1,
   "id": "d7e2fb2d-0092-4f93-80fa-7bd9aa67ab15",
   "metadata": {},
   "outputs": [],
   "source": [
    "from lib2to3.pytree import WildcardPattern\n",
    "import json\n",
    "import lxml\n",
    "import os\n",
    "import argparse\n",
    "import logging\n",
    "import re\n",
    "import sys\n",
    "from io import StringIO\n",
    "from multiprocessing import Queue, get_context, cpu_count\n",
    "from timeit import default_timer\n",
    "import re\n",
    "from tqdm import tqdm\n",
    "import pickle\n",
    "from ruwordnet import RuWordNet\n",
    "from collections import defaultdict\n",
    "import time\n",
    "import numpy as np\n",
    "import bert\n",
    "from cmT8aq2P import SentenceBertTransformer\n",
    "import torch\n",
    "from transformers import AutoModel, AutoTokenizer\n",
    "from reading_wiki_and_wn import collect_article, collect_info_wn\n",
    "from classes import Page, WikiSynset, display, WnCtx\n",
    "from general import coolect_wiki_synset, unambiguity_resolution, accounting_for_redirects, resolution_of_ambiguity_base_and_labse\n",
    "from general import expanding_candidates_by_lemmas, adding_multi_label, getting_candidates_for_stage_3, stage_4_base_and_labse\n",
    "from general import resolution_of_ambiguity_labse, stage_4_labse\n",
    "from some_help_functions import get_corted_canidates, map_id_title_synset\n",
    "import gc\n",
    "import random\n",
    "from chekers import getLemmaForSynsets\n",
    "from some_help_functions import wn, extractCtxW\n",
    "import pandas as pd"
   ]
  },
  {
   "cell_type": "code",
   "execution_count": 2,
   "id": "22012194",
   "metadata": {},
   "outputs": [],
   "source": [
    "DUMP_PATH = \"D:\\\\asd\\\\ruwiki-20220701-pages-meta-current.xml.bz2\"\n",
    "XML_PATH = 'D:\\\\lbase_data\\\\senses.N.xml'\n",
    "LABELS_PATH = \"D:\\\\lbase_data\\\\wiki_merge_predict_test_29_11_22.csv\""
   ]
  },
  {
   "cell_type": "markdown",
   "id": "21464dbc",
   "metadata": {},
   "source": [
    "Читаем дамп википедии и собираем информацию о статьях и редиректах"
   ]
  },
  {
   "cell_type": "code",
   "execution_count": 3,
   "id": "af38d96d-e401-4bb1-a6e1-14fa2f86a271",
   "metadata": {},
   "outputs": [
    {
     "name": "stderr",
     "output_type": "stream",
     "text": [
      "Read dump Wiki: 4432391it [46:05, 1602.88it/s] \n"
     ]
    }
   ],
   "source": [
    "# pages, dictPageRedirect, dictRedirect = collect_article(DUMP_PATH)"
   ]
  },
  {
   "cell_type": "markdown",
   "id": "8e9ab588",
   "metadata": {},
   "source": [
    "сохранение  информации о страницах"
   ]
  },
  {
   "cell_type": "code",
   "execution_count": 4,
   "id": "7c921fa5",
   "metadata": {},
   "outputs": [],
   "source": [
    "\n",
    "# file = open(\"D:\\\\lbase_data\\\\ctxw.txt\", \"wb\")\n",
    "# pickle.dump(pages, file=file)\n",
    "# file.close()\n",
    "# file = open(\"D:\\\\lbase_data\\\\drp.txt\", \"wb\")\n",
    "# pickle.dump(dictPageRedirect, file=file)\n",
    "# file.close()\n",
    "# file = open(\"D:\\\\lbase_data\\\\dr.txt\", \"wb\")\n",
    "# pickle.dump(dictRedirect, file=file)\n",
    "# file.close()\n"
   ]
  },
  {
   "cell_type": "code",
   "execution_count": 3,
   "id": "6e7f51aa-7781-4cc8-a447-3040f44e857d",
   "metadata": {},
   "outputs": [
    {
     "name": "stdout",
     "output_type": "stream",
     "text": [
      "Wall time: 49.2 s\n"
     ]
    }
   ],
   "source": [
    "%%time\n",
    "file = open(\"D:\\\\lbase_data\\\\ctxw.txt\", \"rb\")\n",
    "unpickler = pickle.Unpickler(file)\n",
    "pages = unpickler.load()\n",
    "file.close()\n",
    "file = open(\"D:\\\\lbase_data\\\\dr.txt\", \"rb\")\n",
    "unpickler = pickle.Unpickler(file)\n",
    "dictRedirect = unpickler.load()\n",
    "file.close()\n",
    "file = open(\"D:\\\\lbase_data\\\\drp.txt\", \"rb\")\n",
    "unpickler = pickle.Unpickler(file)\n",
    "dictPageRedirect = unpickler.load()\n",
    "file.close()"
   ]
  },
  {
   "cell_type": "code",
   "execution_count": 4,
   "id": "119f3970-e227-4156-8bf4-2c222525b1c4",
   "metadata": {},
   "outputs": [
    {
     "data": {
      "text/plain": [
       "(988017, 988017)"
      ]
     },
     "execution_count": 4,
     "metadata": {},
     "output_type": "execute_result"
    }
   ],
   "source": [
    "len(dictRedirect),  len(dictPageRedirect)"
   ]
  },
  {
   "cell_type": "markdown",
   "id": "7c241dd3",
   "metadata": {},
   "source": [
    "Получение викисинсетов"
   ]
  },
  {
   "cell_type": "code",
   "execution_count": 4,
   "id": "5a387562-36f6-450c-bc9e-4327cd9a233c",
   "metadata": {},
   "outputs": [
    {
     "name": "stderr",
     "output_type": "stream",
     "text": [
      "Do hash: 100%|██████████████████████████████████████████████████████████| 4432391/4432391 [00:03<00:00, 1455630.45it/s]\n",
      "Add multiPage: 100%|████████████████████████████████████████████████████| 4432391/4432391 [00:01<00:00, 3409531.66it/s]\n",
      "Create WikiSynset: 100%|██████████████████████████████████████████████████| 4432391/4432391 [05:14<00:00, 14110.69it/s]\n"
     ]
    }
   ],
   "source": [
    "wiki, meaningPageCounter, multiPageCounter, includeTitle = coolect_wiki_synset(pages, dictPageRedirect)"
   ]
  },
  {
   "cell_type": "markdown",
   "id": "8beb93ed",
   "metadata": {},
   "source": [
    "Чтение sense-ов и сохранние информации о них"
   ]
  },
  {
   "cell_type": "code",
   "execution_count": 15,
   "id": "604a34b2-59cc-413d-94e6-edc15d94e6c8",
   "metadata": {},
   "outputs": [
    {
     "name": "stderr",
     "output_type": "stream",
     "text": [
      "Read Wn sense: 100%|█████████████████████████████████████████████████████████████| 94710/94710 [54:50<00:00, 28.78it/s]\n"
     ]
    },
    {
     "data": {
      "text/plain": [
       "94710"
      ]
     },
     "execution_count": 15,
     "metadata": {},
     "output_type": "execute_result"
    }
   ],
   "source": [
    "# dictWn, countWn = collect_info_wn(XML_PATH)\n",
    "# countWn"
   ]
  },
  {
   "cell_type": "markdown",
   "id": "aa50a423",
   "metadata": {},
   "source": [
    "сохранениеи информации о WN"
   ]
  },
  {
   "cell_type": "code",
   "execution_count": 16,
   "id": "8e848d55-82d4-44f1-a546-ce50c419be2d",
   "metadata": {},
   "outputs": [],
   "source": [
    "# file = open(\"D:\\\\lbase_data\\\\ctxS.txt\", \"wb\")\n",
    "# pickle.dump(dictWn, file=file)\n",
    "# file.close()"
   ]
  },
  {
   "cell_type": "code",
   "execution_count": 5,
   "id": "753dc511",
   "metadata": {},
   "outputs": [
    {
     "name": "stdout",
     "output_type": "stream",
     "text": [
      "Wall time: 1.48 s\n"
     ]
    }
   ],
   "source": [
    "%%time\n",
    "file = open(\"D:\\\\lbase_data\\\\ctxS.txt\", \"rb\")\n",
    "unpickler = pickle.Unpickler(file)\n",
    "dictWn = unpickler.load()\n",
    "file.close()"
   ]
  },
  {
   "cell_type": "code",
   "execution_count": 7,
   "id": "bb09a45b-9b8a-4714-a488-11b72deb9a2d",
   "metadata": {},
   "outputs": [
    {
     "name": "stdout",
     "output_type": "stream",
     "text": [
      "WnCtx(id='130542-N-196389', ctx={'тщательно проверить', 'вычитка', 'редактирование текст', 'модерация контент', 'корректурный правка', 'вычитка текст', 'выверить', 'вычитывание'}, lemmaInWn='ВЫЧИТКА', name='ВЫЧИТКА')\n"
     ]
    }
   ],
   "source": [
    "print(dictWn[\"130542-N-196389\"])"
   ]
  },
  {
   "cell_type": "markdown",
   "id": "581edbc8",
   "metadata": {},
   "source": [
    "Первый этап - связывание однозначных \"понятий\""
   ]
  },
  {
   "cell_type": "code",
   "execution_count": 6,
   "id": "ddcaf586-21ee-460b-a402-6d8334a882af",
   "metadata": {},
   "outputs": [
    {
     "name": "stderr",
     "output_type": "stream",
     "text": [
      "unambiguity_resolution: 100%|██████████████████████████████████████████████| 1826284/1826284 [13:11<00:00, 2306.27it/s]\n"
     ]
    }
   ],
   "source": [
    "dictDisplay, new_wiki = unambiguity_resolution(wiki, dictWn)\n"
   ]
  },
  {
   "cell_type": "markdown",
   "id": "c2c2df8c",
   "metadata": {},
   "source": [
    "сохранение dictDisplay  и new_wiki ппосле первого этапа"
   ]
  },
  {
   "cell_type": "code",
   "execution_count": 8,
   "id": "7088c33a",
   "metadata": {},
   "outputs": [],
   "source": [
    "# file = open(\"D:\\\\lbase_data\\\\dictDisplay1.txt\", \"wb\")\n",
    "# pickle.dump(dictDisplay, file=file)\n",
    "# file.close()\n",
    "# file = open(\"D:\\\\lbase_data\\\\new_wiki.txt\", \"wb\")\n",
    "# pickle.dump(new_wiki, file=file)\n",
    "# file.close()"
   ]
  },
  {
   "cell_type": "code",
   "execution_count": 6,
   "id": "40f6d518",
   "metadata": {},
   "outputs": [
    {
     "name": "stdout",
     "output_type": "stream",
     "text": [
      "Wall time: 40.7 s\n"
     ]
    }
   ],
   "source": [
    "%%time\n",
    "file = open(\"D:\\\\lbase_data\\\\dictDisplay1.txt\", \"rb\")\n",
    "unpickler = pickle.Unpickler(file)\n",
    "dictDisplay = unpickler.load()\n",
    "file.close()\n",
    "file = open(\"D:\\\\lbase_data\\\\new_wiki.txt\", \"rb\")\n",
    "unpickler = pickle.Unpickler(file)\n",
    "new_wiki = unpickler.load()\n",
    "file.close()"
   ]
  },
  {
   "cell_type": "code",
   "execution_count": 8,
   "id": "03b3f03a",
   "metadata": {},
   "outputs": [],
   "source": [
    "#     запись резулаов первого этапа в удобночиаемый вид\n",
    "file = open(\"D:\\\\lbase_data\\\\unambiguousDisplay.txt\", \"w\")\n",
    "for key in dictDisplay:\n",
    "    temp = \"id:  \"+str(dictDisplay[key].id) + \" revid: \" + str(dictDisplay[key].revid) + \" title: \"+str(dictDisplay[key].title)  + \" lemma: \"  + str(dictDisplay[key].lemma) + \" wordId:\" + str(dictDisplay[key].wordId)+\"\\n\"\n",
    "    file.write(temp)\n",
    "file.close()"
   ]
  },
  {
   "cell_type": "code",
   "execution_count": 9,
   "id": "06b7501d",
   "metadata": {},
   "outputs": [
    {
     "data": {
      "text/plain": [
       "0"
      ]
     },
     "execution_count": 9,
     "metadata": {},
     "output_type": "execute_result"
    }
   ],
   "source": [
    "gc.collect()"
   ]
  },
  {
   "cell_type": "markdown",
   "id": "dcf1cb23",
   "metadata": {},
   "source": [
    "строим отображение из леммы в индексы"
   ]
  },
  {
   "cell_type": "code",
   "execution_count": 10,
   "id": "031327db-d7fb-4d12-a4c6-59919b1a02e6",
   "metadata": {},
   "outputs": [
    {
     "name": "stderr",
     "output_type": "stream",
     "text": [
      "take more candidates for lemmas: 100%|██████████████████████████████████████| 1823849/1823849 [52:51<00:00, 575.01it/s]\n"
     ]
    }
   ],
   "source": [
    "\n",
    "dictLemmaInIndex = expanding_candidates_by_lemmas(new_wiki)"
   ]
  },
  {
   "cell_type": "code",
   "execution_count": 11,
   "id": "f6a4fbc9",
   "metadata": {},
   "outputs": [],
   "source": [
    "# сохранение dictLemmaInIndex\n",
    "# file = open(\"D:\\\\lbase_data\\\\dictLemmaInIndex.txt\", \"wb\")\n",
    "# pickle.dump(dictLemmaInIndex, file=file)\n",
    "# file.close()"
   ]
  },
  {
   "cell_type": "code",
   "execution_count": 6,
   "id": "5da947d6",
   "metadata": {},
   "outputs": [],
   "source": [
    "file = open(\"D:\\\\lbase_data\\\\dictLemmaInIndex.txt\", \"rb\")\n",
    "unpickler = pickle.Unpickler(file)\n",
    "dictLemmaInIndex = unpickler.load()\n",
    "file.close()"
   ]
  },
  {
   "cell_type": "markdown",
   "id": "115a914c",
   "metadata": {},
   "source": [
    "Учет отображение из леммы в индексы(добавление мееки multiPage)"
   ]
  },
  {
   "cell_type": "code",
   "execution_count": 7,
   "id": "b3fe3a03-0ebe-4603-bd81-dde335be4410",
   "metadata": {},
   "outputs": [
    {
     "name": "stderr",
     "output_type": "stream",
     "text": [
      "100%|███████████████████████████████████████████████████████████████████| 1823849/1823849 [00:01<00:00, 1182778.12it/s]\n"
     ]
    },
    {
     "data": {
      "text/plain": [
       "16937"
      ]
     },
     "execution_count": 7,
     "metadata": {},
     "output_type": "execute_result"
    }
   ],
   "source": [
    "new_wiki, count = adding_multi_label(new_wiki, dictLemmaInIndex)\n",
    "count"
   ]
  },
  {
   "cell_type": "markdown",
   "id": "152c87de",
   "metadata": {},
   "source": [
    "Второй этап - учет редиректов"
   ]
  },
  {
   "cell_type": "code",
   "execution_count": 13,
   "id": "678ba80f-5329-407f-9a1c-03966e28ca48",
   "metadata": {},
   "outputs": [
    {
     "name": "stderr",
     "output_type": "stream",
     "text": [
      "100%|██████████████████████████████████████████████████████████████████████| 1823849/1823849 [27:44<00:00, 1095.57it/s]\n"
     ]
    }
   ],
   "source": [
    "wiki3, dictDisplay, countN = accounting_for_redirects(new_wiki, dictDisplay)"
   ]
  },
  {
   "cell_type": "code",
   "execution_count": 14,
   "id": "1a851d35",
   "metadata": {},
   "outputs": [],
   "source": [
    "file = open(\"D:\\\\lbase_data\\\\secondpart.txt\", \"w\", encoding=\"utf-8\")\n",
    "for key in dictDisplay:\n",
    "    temp = \"id:  \"+str(dictDisplay[key].id) + \" revid: \" + str(dictDisplay[key].revid) + \" title: \"+str(dictDisplay[key].title)  + \" lemma: \"  + str(dictDisplay[key].lemma) + \" wordId:\" + str(dictDisplay[key].wordId)+\"\\n\"\n",
    "    file.write(temp)\n",
    "file.close()"
   ]
  },
  {
   "cell_type": "markdown",
   "id": "1761e68f",
   "metadata": {},
   "source": [
    "сохранение dictDisplay и wiki3(оставшиеся необработанные викисинсеты) после второго этапа"
   ]
  },
  {
   "cell_type": "code",
   "execution_count": 15,
   "id": "f6f897ed",
   "metadata": {},
   "outputs": [],
   "source": [
    "# сохранение dictDisplay  и wiki3\n",
    "# file = open(\"D:\\\\lbase_data\\\\dictDisplay2.txt\", \"wb\")\n",
    "# pickle.dump(dictDisplay, file=file)\n",
    "# file.close()\n",
    "# file = open(\"D:\\\\lbase_data\\\\wiki3.txt\", \"wb\")\n",
    "# pickle.dump(wiki3, file=file)\n",
    "# file.close()"
   ]
  },
  {
   "cell_type": "code",
   "execution_count": 7,
   "id": "27de5dc8",
   "metadata": {},
   "outputs": [
    {
     "name": "stdout",
     "output_type": "stream",
     "text": [
      "Wall time: 5min 10s\n"
     ]
    }
   ],
   "source": [
    "%%time\n",
    "file = open(\"D:\\\\lbase_data\\\\dictDisplay2.txt\", \"rb\")\n",
    "unpickler = pickle.Unpickler(file)\n",
    "dictDisplay = unpickler.load()\n",
    "file.close()\n",
    "file = open(\"D:\\\\lbase_data\\\\wiki3.txt\", \"rb\")\n",
    "unpickler = pickle.Unpickler(file)\n",
    "wiki3 = unpickler.load()\n",
    "file.close()"
   ]
  },
  {
   "cell_type": "markdown",
   "id": "a9f43a6e",
   "metadata": {},
   "source": [
    "Также строим отображение из леммы в индексы для оставшихся викиснесетов"
   ]
  },
  {
   "cell_type": "code",
   "execution_count": 16,
   "id": "aeecf420-1e2b-491f-a527-8e9dc4a082f2",
   "metadata": {},
   "outputs": [
    {
     "name": "stderr",
     "output_type": "stream",
     "text": [
      "take more candidates for lemmas: 100%|██████████████████████████████████████| 1818839/1818839 [52:34<00:00, 576.67it/s]\n"
     ]
    }
   ],
   "source": [
    "#теперь собираем кандидатов только из оставшихся статей\n",
    "dictLemmaInIndex = expanding_candidates_by_lemmas(wiki3)"
   ]
  },
  {
   "cell_type": "code",
   "execution_count": 17,
   "id": "9012962b",
   "metadata": {},
   "outputs": [],
   "source": [
    "# сохранение dictLemmaInIndex\n",
    "# file = open(\"D:\\\\lbase_data\\\\dictLemmaInIndex1.txt\", \"wb\")\n",
    "# pickle.dump(dictLemmaInIndex, file=file)\n",
    "# file.close()"
   ]
  },
  {
   "cell_type": "code",
   "execution_count": 9,
   "id": "86ed58b5",
   "metadata": {},
   "outputs": [],
   "source": [
    "file = open(\"D:\\\\lbase_data\\\\dictLemmaInIndex1.txt\", \"rb\")\n",
    "unpickler = pickle.Unpickler(file)\n",
    "dictLemmaInIndex = unpickler.load()\n",
    "file.close()"
   ]
  },
  {
   "cell_type": "code",
   "execution_count": 18,
   "id": "932677fb-e093-43a5-8ca9-9e91d69df074",
   "metadata": {},
   "outputs": [
    {
     "name": "stderr",
     "output_type": "stream",
     "text": [
      "getting_candidates_for_stage_3: 100%|██████████████████████████████████████| 1818839/1818839 [24:18<00:00, 1246.71it/s]\n"
     ]
    }
   ],
   "source": [
    "dictSynsetId = getting_candidates_for_stage_3(wiki3, dictWn, dictLemmaInIndex)"
   ]
  },
  {
   "cell_type": "code",
   "execution_count": 20,
   "id": "7e380c3c",
   "metadata": {},
   "outputs": [],
   "source": [
    "# сохранение dictSynsetId\n",
    "# file = open(\"D:\\\\lbase_data\\\\dictSynsetId.txt\", \"wb\")\n",
    "# pickle.dump(dictSynsetId, file=file)\n",
    "# file.close()"
   ]
  },
  {
   "cell_type": "code",
   "execution_count": 8,
   "id": "6dd1bc11",
   "metadata": {},
   "outputs": [
    {
     "name": "stdout",
     "output_type": "stream",
     "text": [
      "Wall time: 10.9 s\n"
     ]
    }
   ],
   "source": [
    "%%time\n",
    "file = open(\"D:\\\\lbase_data\\\\dictSynsetId.txt\", \"rb\")\n",
    "unpickler = pickle.Unpickler(file)\n",
    "dictSynsetId = unpickler.load()\n",
    "file.close()"
   ]
  },
  {
   "cell_type": "code",
   "execution_count": 9,
   "id": "7e249feb",
   "metadata": {},
   "outputs": [
    {
     "name": "stderr",
     "output_type": "stream",
     "text": [
      "100%|█████████████████████████████████████████████████████████████████████████| 20501/20501 [00:01<00:00, 14317.10it/s]\n"
     ]
    }
   ],
   "source": [
    "sortCandidates = get_corted_canidates(dictSynsetId)"
   ]
  },
  {
   "cell_type": "code",
   "execution_count": 10,
   "id": "7492c4c4",
   "metadata": {},
   "outputs": [],
   "source": [
    "dictIdTitle = map_id_title_synset()"
   ]
  },
  {
   "cell_type": "code",
   "execution_count": 23,
   "id": "be0a4857-233a-4b36-bf18-e5ce6254d0db",
   "metadata": {},
   "outputs": [
    {
     "name": "stderr",
     "output_type": "stream",
     "text": [
      "100%|█████████████████████████████████████████████████████████████████████████| 20501/20501 [00:00<00:00, 66789.67it/s]\n"
     ]
    }
   ],
   "source": [
    "#запись в файл претендентов\n",
    "candidates = open(\"D:\\\\lbase_data\\\\candidates.txt\", \"w\", encoding=\"utf-8\")\n",
    "i = 0\n",
    "for key in tqdm(sortCandidates):\n",
    "    s = \"id synset = \"+str(key) + \" synset title = \" + dictIdTitle[key]\n",
    "    for elem in sortCandidates[key]:\n",
    "        s += \" title = \" + elem.page.title +\" id = \" + elem.page.id + \" \"\n",
    "    print(s, file = candidates)\n",
    "candidates.close()"
   ]
  },
  {
   "cell_type": "markdown",
   "id": "2599e3da",
   "metadata": {},
   "source": [
    "Объявление трансформера labse"
   ]
  },
  {
   "cell_type": "code",
   "execution_count": 11,
   "id": "87b2175a-4b6c-4419-bd9b-736feb980eb7",
   "metadata": {},
   "outputs": [
    {
     "name": "stdout",
     "output_type": "stream",
     "text": [
      "Wall time: 9.86 s\n"
     ]
    }
   ],
   "source": [
    "%%time\n",
    "labse = SentenceBertTransformer(device=\"cuda\")\n",
    "labse.load_model()"
   ]
  },
  {
   "cell_type": "markdown",
   "id": "c685b0c0",
   "metadata": {},
   "source": [
    "Разрешение многозначности"
   ]
  },
  {
   "cell_type": "markdown",
   "id": "7a592e26",
   "metadata": {},
   "source": [
    "labse+base"
   ]
  },
  {
   "cell_type": "code",
   "execution_count": 12,
   "id": "7a1e4b25-500a-4678-a3e8-518530d36d7e",
   "metadata": {},
   "outputs": [
    {
     "name": "stderr",
     "output_type": "stream",
     "text": [
      "stage 3: 100%|███████████████████████████████████████████████████████████████████| 20501/20501 [34:41<00:00,  9.85it/s]"
     ]
    },
    {
     "name": "stdout",
     "output_type": "stream",
     "text": [
      "len(dictDisplay) 22436\n",
      "bed lemma counts 14130\n",
      "0 denominator count 20009\n",
      "count bad maxP 2415\n",
      "lemma Synset is bad count 1638\n",
      "title to id not N 738\n"
     ]
    },
    {
     "name": "stderr",
     "output_type": "stream",
     "text": [
      "\n"
     ]
    }
   ],
   "source": [
    "# dictSortCandidates, dictDisplay, count1, count2, count3,count4,count5 =  resolution_of_ambiguity_base_and_labse(sortCandidates, dictIdTitle, labse, dictDisplay, dictWn)\n",
    "# print(\"len(dictDisplay)\",len(dictDisplay)) \n",
    "# print(\"bed lemma counts\",count1)\n",
    "# print(\"0 denominator count\",count2)\n",
    "# print(\"count bad maxP\",count3)\n",
    "# print(\"lemma Synset is bad count\",count4)\n",
    "# print(\"title to id not N\",count5)"
   ]
  },
  {
   "cell_type": "markdown",
   "id": "5cc6d8d7",
   "metadata": {},
   "source": [
    "only labse"
   ]
  },
  {
   "cell_type": "code",
   "execution_count": null,
   "id": "bf2e39bd",
   "metadata": {},
   "outputs": [],
   "source": [
    "dictSortCandidates, dictDisplay, count1, count2, count3,count4,count5 =  resolution_of_ambiguity_base_and_labse(sortCandidates, dictIdTitle, labse, dictDisplay)"
   ]
  },
  {
   "cell_type": "code",
   "execution_count": 13,
   "id": "0fa6104a-607a-4f1b-97b5-26b73f333b97",
   "metadata": {},
   "outputs": [
    {
     "name": "stderr",
     "output_type": "stream",
     "text": [
      "100%|███████████████████████████████████████████████████████████████████████████| 20501/20501 [01:19<00:00, 257.49it/s]\n"
     ]
    }
   ],
   "source": [
    "for key in dictSortCandidates:\n",
    "    temp = sorted(dictSortCandidates[key],key=lambda x: x[1], reverse = True)\n",
    "    dictSortCandidates[key] = temp\n",
    "candidates = open(\"D:\\\\lbase_data\\\\sortcandidates_base_and_labse.txt\", \"w\", encoding=\"utf-8\")\n",
    "candidates1 = open(\"D:\\\\lbase_data\\\\sortcandidates1000_base_and_labse.txt\", \"w\", encoding=\"utf-8\")\n",
    "i = 0\n",
    "for key in tqdm(dictSortCandidates):\n",
    "    s = \"id synset: \"+str(key) + \"\\tsynset title: \" + dictIdTitle[key] + \"\\n\" \n",
    "    lemmaSynset = getLemmaForSynsets(dictIdTitle[key])\n",
    "    if lemmaSynset != \"\" :\n",
    "        idWn = wn.get_senses(lemmaSynset)[0].id\n",
    "        if \"N\" in idWn:\n",
    "            s += \"Ctx synset: \" + \",\".join(list(dictWn[idWn].ctx)) + \"\\n\"\n",
    "        else:\n",
    "            s += \"id for N is A. lemma: \" + lemmaSynset + \"\\n\"\n",
    "    else:\n",
    "        s += \"lemmasynset not found\\n\" \n",
    "    for elem in dictSortCandidates[key]:\n",
    "        s += \"title: \" + elem[0].page.title +\" id = \" + elem[0].page.id + \" \" + str(elem[1]) + \"\\n\"\n",
    "        s += \"ctx article:\" +\",\".join(list(extractCtxW(elem[0].page.links,elem[0].page.categories))) +\"\\n\"\n",
    "    s += \"\\n\"\n",
    "    print(s, file = candidates)\n",
    "    if i < 1000:\n",
    "        print(s, file = candidates1) \n",
    "    i += 1\n",
    "candidates.close()\n",
    "candidates1.close()"
   ]
  },
  {
   "cell_type": "markdown",
   "id": "aac43627",
   "metadata": {},
   "source": [
    "сохранение dictDisplay после 3 этапа"
   ]
  },
  {
   "cell_type": "code",
   "execution_count": 14,
   "id": "cb572f48",
   "metadata": {},
   "outputs": [],
   "source": [
    "file = open(\"D:\\\\lbase_data\\\\dictDisplay3_labse.txt\", \"wb\")\n",
    "pickle.dump(dictDisplay, file=file)\n",
    "file.close()"
   ]
  },
  {
   "cell_type": "code",
   "execution_count": 54,
   "id": "dc02f8a1",
   "metadata": {},
   "outputs": [],
   "source": [
    "# file = open(\"D:\\\\lbase_data\\\\dictDisplay3_labse.txt\", \"rb\")\n",
    "# unpickler = pickle.Unpickler(file)\n",
    "# dictDisplay = unpickler.load()\n",
    "# file.close()"
   ]
  },
  {
   "cell_type": "code",
   "execution_count": 15,
   "id": "81fbb085",
   "metadata": {},
   "outputs": [
    {
     "name": "stderr",
     "output_type": "stream",
     "text": [
      "100%|████████████████████████████████████████████████████████████████████████| 22436/22436 [00:00<00:00, 386814.28it/s]\n"
     ]
    }
   ],
   "source": [
    "file = open(\"D:\\\\lbase_data\\\\thirdpart_for_labse.txt\",\"w\", encoding=\"utf-8\")\n",
    "for key in tqdm(dictDisplay):\n",
    "    temp = \"id:  \"+str(dictDisplay[key].id) + \" wordId: \" + str(dictDisplay[key].wordId) + \" title: \"+str(dictDisplay[key].title) +\" lemma: \"+str(dictDisplay[key].lemma) + '\\n'\n",
    "    file.write(temp)\n",
    "file.close()"
   ]
  },
  {
   "cell_type": "markdown",
   "id": "5b06aa27",
   "metadata": {},
   "source": [
    "Дополнительный этап"
   ]
  },
  {
   "cell_type": "markdown",
   "id": "d78f5be5",
   "metadata": {},
   "source": [
    "labse+base"
   ]
  },
  {
   "cell_type": "code",
   "execution_count": 16,
   "id": "7b6231ca",
   "metadata": {},
   "outputs": [
    {
     "name": "stdout",
     "output_type": "stream",
     "text": [
      "Start stage_4_preprocessing\n",
      "End of stage_4_preprocessing,timework is 0.04400038719177246\n"
     ]
    },
    {
     "name": "stderr",
     "output_type": "stream",
     "text": [
      "Stage 4: 100%|█████████████████████████████████████████████████████████████████████| 2186/2186 [00:50<00:00, 42.99it/s]\n"
     ]
    }
   ],
   "source": [
    "# dictDisplay = stage_4_base_and_labse(labse, dictDisplay, dictWn)"
   ]
  },
  {
   "cell_type": "markdown",
   "id": "6bbf11bc",
   "metadata": {},
   "source": [
    "labse"
   ]
  },
  {
   "cell_type": "code",
   "execution_count": null,
   "id": "af2b21a1",
   "metadata": {},
   "outputs": [],
   "source": [
    "dictDisplay = stage_4_labse(labse, dictDisplay)"
   ]
  },
  {
   "cell_type": "code",
   "execution_count": 21,
   "id": "f991a092",
   "metadata": {},
   "outputs": [
    {
     "data": {
      "text/plain": [
       "19868"
      ]
     },
     "execution_count": 21,
     "metadata": {},
     "output_type": "execute_result"
    }
   ],
   "source": [
    "len(dictDisplay)"
   ]
  },
  {
   "cell_type": "markdown",
   "id": "5d03090c",
   "metadata": {},
   "source": [
    "сохранение dictDisplay"
   ]
  },
  {
   "cell_type": "code",
   "execution_count": 22,
   "id": "0c5a88b4",
   "metadata": {},
   "outputs": [],
   "source": [
    "file = open(\"D:\\\\lbase_data\\\\dictDisplay4_labse.txt\", \"wb\")\n",
    "pickle.dump(dictDisplay, file=file)\n",
    "file.close()"
   ]
  },
  {
   "cell_type": "code",
   "execution_count": 9,
   "id": "b857a9b0",
   "metadata": {},
   "outputs": [],
   "source": [
    "# file = open(\"D:\\\\lbase_data\\\\dictDisplay4_labse.txt\", \"rb\")\n",
    "# unpickler = pickle.Unpickler(file)\n",
    "# dictDisplay = unpickler.load()\n",
    "# file.close()"
   ]
  },
  {
   "cell_type": "code",
   "execution_count": 10,
   "id": "3fdb1672",
   "metadata": {},
   "outputs": [
    {
     "data": {
      "text/plain": [
       "19775"
      ]
     },
     "execution_count": 10,
     "metadata": {},
     "output_type": "execute_result"
    }
   ],
   "source": [
    "len(dictDisplay)"
   ]
  },
  {
   "cell_type": "code",
   "execution_count": 23,
   "id": "65735ac3",
   "metadata": {},
   "outputs": [
    {
     "name": "stderr",
     "output_type": "stream",
     "text": [
      "100%|████████████████████████████████████████████████████████████████████████| 19868/19868 [00:00<00:00, 374863.05it/s]\n"
     ]
    }
   ],
   "source": [
    "file = open(\"D:\\\\lbase_data\\\\fourthpart_for_labse.txt\",\"w\", encoding=\"utf-8\")\n",
    "for key in tqdm(dictDisplay):\n",
    "    temp = \"id:  \"+str(dictDisplay[key].id) + \" wordId: \" + str(dictDisplay[key].wordId) + \" title: \"+str(dictDisplay[key].title) +\" lemma: \"+str(dictDisplay[key].lemma) + '\\n'\n",
    "    file.write(temp)\n",
    "file.close()"
   ]
  },
  {
   "cell_type": "code",
   "execution_count": 24,
   "id": "d728cb94",
   "metadata": {},
   "outputs": [
    {
     "data": {
      "text/html": [
       "<div>\n",
       "<style scoped>\n",
       "    .dataframe tbody tr th:only-of-type {\n",
       "        vertical-align: middle;\n",
       "    }\n",
       "\n",
       "    .dataframe tbody tr th {\n",
       "        vertical-align: top;\n",
       "    }\n",
       "\n",
       "    .dataframe thead th {\n",
       "        text-align: right;\n",
       "    }\n",
       "</style>\n",
       "<table border=\"1\" class=\"dataframe\">\n",
       "  <thead>\n",
       "    <tr style=\"text-align: right;\">\n",
       "      <th></th>\n",
       "      <th>Unnamed: 0</th>\n",
       "      <th>synset_id</th>\n",
       "      <th>wiki_title</th>\n",
       "      <th>annotation</th>\n",
       "      <th>wiki_title_gold</th>\n",
       "    </tr>\n",
       "  </thead>\n",
       "  <tbody>\n",
       "    <tr>\n",
       "      <th>0</th>\n",
       "      <td>0</td>\n",
       "      <td>115195-N</td>\n",
       "      <td>Облава</td>\n",
       "      <td>Да</td>\n",
       "      <td>Облава</td>\n",
       "    </tr>\n",
       "    <tr>\n",
       "      <th>1</th>\n",
       "      <td>1</td>\n",
       "      <td>128158-N</td>\n",
       "      <td>Шаньдун</td>\n",
       "      <td>Да</td>\n",
       "      <td>Шаньдун</td>\n",
       "    </tr>\n",
       "    <tr>\n",
       "      <th>2</th>\n",
       "      <td>2</td>\n",
       "      <td>143699-N</td>\n",
       "      <td>Оксюморон</td>\n",
       "      <td>Да</td>\n",
       "      <td>Оксюморон</td>\n",
       "    </tr>\n",
       "    <tr>\n",
       "      <th>3</th>\n",
       "      <td>3</td>\n",
       "      <td>4061-N</td>\n",
       "      <td>Доверенность</td>\n",
       "      <td>Да</td>\n",
       "      <td>Доверенность</td>\n",
       "    </tr>\n",
       "    <tr>\n",
       "      <th>4</th>\n",
       "      <td>5</td>\n",
       "      <td>136544-N</td>\n",
       "      <td>Шахматная доска</td>\n",
       "      <td>Да</td>\n",
       "      <td>Шахматная доска</td>\n",
       "    </tr>\n",
       "    <tr>\n",
       "      <th>...</th>\n",
       "      <td>...</td>\n",
       "      <td>...</td>\n",
       "      <td>...</td>\n",
       "      <td>...</td>\n",
       "      <td>...</td>\n",
       "    </tr>\n",
       "    <tr>\n",
       "      <th>1725</th>\n",
       "      <td>1993</td>\n",
       "      <td>113701-N</td>\n",
       "      <td>Царю небесный</td>\n",
       "      <td>Нет</td>\n",
       "      <td>Бог</td>\n",
       "    </tr>\n",
       "    <tr>\n",
       "      <th>1726</th>\n",
       "      <td>1994</td>\n",
       "      <td>124807-N</td>\n",
       "      <td>Наставничество</td>\n",
       "      <td>Да</td>\n",
       "      <td>Наставничество</td>\n",
       "    </tr>\n",
       "    <tr>\n",
       "      <th>1727</th>\n",
       "      <td>1995</td>\n",
       "      <td>9199-N</td>\n",
       "      <td>Трансурановые элементы</td>\n",
       "      <td>Да</td>\n",
       "      <td>Трансурановые элементы</td>\n",
       "    </tr>\n",
       "    <tr>\n",
       "      <th>1728</th>\n",
       "      <td>1996</td>\n",
       "      <td>103410-N</td>\n",
       "      <td>Эсватини</td>\n",
       "      <td>Да</td>\n",
       "      <td>Эсватини</td>\n",
       "    </tr>\n",
       "    <tr>\n",
       "      <th>1729</th>\n",
       "      <td>1998</td>\n",
       "      <td>141998-N</td>\n",
       "      <td>Землянка</td>\n",
       "      <td>Да</td>\n",
       "      <td>Землянка</td>\n",
       "    </tr>\n",
       "  </tbody>\n",
       "</table>\n",
       "<p>1730 rows × 5 columns</p>\n",
       "</div>"
      ],
      "text/plain": [
       "      Unnamed: 0 synset_id              wiki_title annotation  \\\n",
       "0              0  115195-N                  Облава         Да   \n",
       "1              1  128158-N                 Шаньдун         Да   \n",
       "2              2  143699-N               Оксюморон         Да   \n",
       "3              3    4061-N            Доверенность         Да   \n",
       "4              5  136544-N         Шахматная доска         Да   \n",
       "...          ...       ...                     ...        ...   \n",
       "1725        1993  113701-N           Царю небесный        Нет   \n",
       "1726        1994  124807-N          Наставничество         Да   \n",
       "1727        1995    9199-N  Трансурановые элементы         Да   \n",
       "1728        1996  103410-N                Эсватини         Да   \n",
       "1729        1998  141998-N                Землянка         Да   \n",
       "\n",
       "             wiki_title_gold  \n",
       "0                     Облава  \n",
       "1                    Шаньдун  \n",
       "2                  Оксюморон  \n",
       "3               Доверенность  \n",
       "4            Шахматная доска  \n",
       "...                      ...  \n",
       "1725                     Бог  \n",
       "1726          Наставничество  \n",
       "1727  Трансурановые элементы  \n",
       "1728                Эсватини  \n",
       "1729                Землянка  \n",
       "\n",
       "[1730 rows x 5 columns]"
      ]
     },
     "execution_count": 24,
     "metadata": {},
     "output_type": "execute_result"
    }
   ],
   "source": [
    "\n",
    "df = pd.read_csv(LABELS_PATH)\n",
    "df"
   ]
  },
  {
   "cell_type": "code",
   "execution_count": 25,
   "id": "9799b662",
   "metadata": {},
   "outputs": [],
   "source": [
    "synset_id = set(df[\"synset_id\"].values)"
   ]
  },
  {
   "cell_type": "code",
   "execution_count": 54,
   "id": "644acc0a",
   "metadata": {},
   "outputs": [
    {
     "name": "stderr",
     "output_type": "stream",
     "text": [
      "100%|█████████████████████████████████████████████████████████████████████████| 7445/7445 [00:00<00:00, 1240873.96it/s]\n"
     ]
    }
   ],
   "source": [
    "file = open(\"D:\\\\lbase_data\\\\dictDisplay2.txt\", \"rb\")\n",
    "unpickler = pickle.Unpickler(file)\n",
    "single = unpickler.load()\n",
    "file.close()\n",
    "set_single = []\n",
    "for key, value in tqdm(single.items()):\n",
    "    set_single.append(value.wordId)\n",
    "set_single = set(set_single)"
   ]
  },
  {
   "cell_type": "code",
   "execution_count": 39,
   "id": "28891b59",
   "metadata": {},
   "outputs": [
    {
     "name": "stderr",
     "output_type": "stream",
     "text": [
      "100%|████████████████████████████████████████████████████████████████████████| 19868/19868 [00:00<00:00, 993400.95it/s]\n"
     ]
    }
   ],
   "source": [
    "dict_for_check = {}\n",
    "for key, value in tqdm(dictDisplay.items()):\n",
    "    if value.wordId in synset_id:\n",
    "        dict_for_check[value.wordId] = value.title"
   ]
  },
  {
   "cell_type": "code",
   "execution_count": 40,
   "id": "323495d8",
   "metadata": {},
   "outputs": [
    {
     "name": "stderr",
     "output_type": "stream",
     "text": [
      "C:\\Users\\Professional\\AppData\\Local\\Temp\\ipykernel_10656\\3563258175.py:3: SettingWithCopyWarning: \n",
      "A value is trying to be set on a copy of a slice from a DataFrame.\n",
      "Try using .loc[row_indexer,col_indexer] = value instead\n",
      "\n",
      "See the caveats in the documentation: https://pandas.pydata.org/pandas-docs/stable/user_guide/indexing.html#returning-a-view-versus-a-copy\n",
      "  dataset[\"wiki_title\"] = for_apply.apply(lambda x: dict_for_check[x] if x in dict_for_check else \"не связан\")\n"
     ]
    },
    {
     "data": {
      "text/html": [
       "<div>\n",
       "<style scoped>\n",
       "    .dataframe tbody tr th:only-of-type {\n",
       "        vertical-align: middle;\n",
       "    }\n",
       "\n",
       "    .dataframe tbody tr th {\n",
       "        vertical-align: top;\n",
       "    }\n",
       "\n",
       "    .dataframe thead th {\n",
       "        text-align: right;\n",
       "    }\n",
       "</style>\n",
       "<table border=\"1\" class=\"dataframe\">\n",
       "  <thead>\n",
       "    <tr style=\"text-align: right;\">\n",
       "      <th></th>\n",
       "      <th>synset_id</th>\n",
       "      <th>wiki_title_gold</th>\n",
       "      <th>wiki_title</th>\n",
       "    </tr>\n",
       "  </thead>\n",
       "  <tbody>\n",
       "    <tr>\n",
       "      <th>0</th>\n",
       "      <td>115195-N</td>\n",
       "      <td>Облава</td>\n",
       "      <td>Облава</td>\n",
       "    </tr>\n",
       "    <tr>\n",
       "      <th>1</th>\n",
       "      <td>128158-N</td>\n",
       "      <td>Шаньдун</td>\n",
       "      <td>Шаньдун</td>\n",
       "    </tr>\n",
       "    <tr>\n",
       "      <th>2</th>\n",
       "      <td>143699-N</td>\n",
       "      <td>Оксюморон</td>\n",
       "      <td>Оксюморон</td>\n",
       "    </tr>\n",
       "    <tr>\n",
       "      <th>3</th>\n",
       "      <td>4061-N</td>\n",
       "      <td>Доверенность</td>\n",
       "      <td>Доверенность</td>\n",
       "    </tr>\n",
       "    <tr>\n",
       "      <th>4</th>\n",
       "      <td>136544-N</td>\n",
       "      <td>Шахматная доска</td>\n",
       "      <td>не связан</td>\n",
       "    </tr>\n",
       "    <tr>\n",
       "      <th>...</th>\n",
       "      <td>...</td>\n",
       "      <td>...</td>\n",
       "      <td>...</td>\n",
       "    </tr>\n",
       "    <tr>\n",
       "      <th>1725</th>\n",
       "      <td>113701-N</td>\n",
       "      <td>Бог</td>\n",
       "      <td>Бог</td>\n",
       "    </tr>\n",
       "    <tr>\n",
       "      <th>1726</th>\n",
       "      <td>124807-N</td>\n",
       "      <td>Наставничество</td>\n",
       "      <td>Наставничество</td>\n",
       "    </tr>\n",
       "    <tr>\n",
       "      <th>1727</th>\n",
       "      <td>9199-N</td>\n",
       "      <td>Трансурановые элементы</td>\n",
       "      <td>Трансурановые элементы</td>\n",
       "    </tr>\n",
       "    <tr>\n",
       "      <th>1728</th>\n",
       "      <td>103410-N</td>\n",
       "      <td>Эсватини</td>\n",
       "      <td>Эсватини</td>\n",
       "    </tr>\n",
       "    <tr>\n",
       "      <th>1729</th>\n",
       "      <td>141998-N</td>\n",
       "      <td>Землянка</td>\n",
       "      <td>Землянка</td>\n",
       "    </tr>\n",
       "  </tbody>\n",
       "</table>\n",
       "<p>1730 rows × 3 columns</p>\n",
       "</div>"
      ],
      "text/plain": [
       "     synset_id         wiki_title_gold              wiki_title\n",
       "0     115195-N                  Облава                  Облава\n",
       "1     128158-N                 Шаньдун                 Шаньдун\n",
       "2     143699-N               Оксюморон               Оксюморон\n",
       "3       4061-N            Доверенность            Доверенность\n",
       "4     136544-N         Шахматная доска               не связан\n",
       "...        ...                     ...                     ...\n",
       "1725  113701-N                     Бог                     Бог\n",
       "1726  124807-N          Наставничество          Наставничество\n",
       "1727    9199-N  Трансурановые элементы  Трансурановые элементы\n",
       "1728  103410-N                Эсватини                Эсватини\n",
       "1729  141998-N                Землянка                Землянка\n",
       "\n",
       "[1730 rows x 3 columns]"
      ]
     },
     "execution_count": 40,
     "metadata": {},
     "output_type": "execute_result"
    }
   ],
   "source": [
    "dataset = df[[\"synset_id\", \"wiki_title_gold\"]]\n",
    "for_apply = df[\"synset_id\"]\n",
    "dataset[\"wiki_title\"] = for_apply.apply(lambda x: dict_for_check[x] if x in dict_for_check else \"не связан\")\n",
    "dataset"
   ]
  },
  {
   "cell_type": "code",
   "execution_count": 41,
   "id": "2ee7ae30",
   "metadata": {},
   "outputs": [
    {
     "data": {
      "text/plain": [
       "0.7289017341040462"
      ]
     },
     "execution_count": 41,
     "metadata": {},
     "output_type": "execute_result"
    }
   ],
   "source": [
    "from sklearn.metrics import accuracy_score\n",
    "y_pred = dataset[\"wiki_title\"].values\n",
    "y_true = dataset[\"wiki_title_gold\"].values\n",
    "accuracy_score(y_true, y_pred)"
   ]
  },
  {
   "cell_type": "code",
   "execution_count": 58,
   "id": "a15bf71b",
   "metadata": {},
   "outputs": [
    {
     "name": "stderr",
     "output_type": "stream",
     "text": [
      "C:\\Users\\Professional\\AppData\\Local\\Temp\\ipykernel_10656\\183366674.py:2: SettingWithCopyWarning: \n",
      "A value is trying to be set on a copy of a slice from a DataFrame.\n",
      "Try using .loc[row_indexer,col_indexer] = value instead\n",
      "\n",
      "See the caveats in the documentation: https://pandas.pydata.org/pandas-docs/stable/user_guide/indexing.html#returning-a-view-versus-a-copy\n",
      "  dataset[\"multi\"] = for_apply.apply(lambda x: 0 if x in set_single else 1)\n"
     ]
    },
    {
     "data": {
      "text/html": [
       "<div>\n",
       "<style scoped>\n",
       "    .dataframe tbody tr th:only-of-type {\n",
       "        vertical-align: middle;\n",
       "    }\n",
       "\n",
       "    .dataframe tbody tr th {\n",
       "        vertical-align: top;\n",
       "    }\n",
       "\n",
       "    .dataframe thead th {\n",
       "        text-align: right;\n",
       "    }\n",
       "</style>\n",
       "<table border=\"1\" class=\"dataframe\">\n",
       "  <thead>\n",
       "    <tr style=\"text-align: right;\">\n",
       "      <th></th>\n",
       "      <th>synset_id</th>\n",
       "      <th>wiki_title_gold</th>\n",
       "      <th>wiki_title</th>\n",
       "      <th>multi</th>\n",
       "    </tr>\n",
       "  </thead>\n",
       "  <tbody>\n",
       "    <tr>\n",
       "      <th>0</th>\n",
       "      <td>115195-N</td>\n",
       "      <td>Облава</td>\n",
       "      <td>Облава</td>\n",
       "      <td>1</td>\n",
       "    </tr>\n",
       "    <tr>\n",
       "      <th>1</th>\n",
       "      <td>128158-N</td>\n",
       "      <td>Шаньдун</td>\n",
       "      <td>Шаньдун</td>\n",
       "      <td>1</td>\n",
       "    </tr>\n",
       "    <tr>\n",
       "      <th>2</th>\n",
       "      <td>143699-N</td>\n",
       "      <td>Оксюморон</td>\n",
       "      <td>Оксюморон</td>\n",
       "      <td>0</td>\n",
       "    </tr>\n",
       "    <tr>\n",
       "      <th>3</th>\n",
       "      <td>4061-N</td>\n",
       "      <td>Доверенность</td>\n",
       "      <td>Доверенность</td>\n",
       "      <td>1</td>\n",
       "    </tr>\n",
       "    <tr>\n",
       "      <th>4</th>\n",
       "      <td>136544-N</td>\n",
       "      <td>Шахматная доска</td>\n",
       "      <td>не связан</td>\n",
       "      <td>1</td>\n",
       "    </tr>\n",
       "    <tr>\n",
       "      <th>...</th>\n",
       "      <td>...</td>\n",
       "      <td>...</td>\n",
       "      <td>...</td>\n",
       "      <td>...</td>\n",
       "    </tr>\n",
       "    <tr>\n",
       "      <th>1725</th>\n",
       "      <td>113701-N</td>\n",
       "      <td>Бог</td>\n",
       "      <td>Бог</td>\n",
       "      <td>0</td>\n",
       "    </tr>\n",
       "    <tr>\n",
       "      <th>1726</th>\n",
       "      <td>124807-N</td>\n",
       "      <td>Наставничество</td>\n",
       "      <td>Наставничество</td>\n",
       "      <td>0</td>\n",
       "    </tr>\n",
       "    <tr>\n",
       "      <th>1727</th>\n",
       "      <td>9199-N</td>\n",
       "      <td>Трансурановые элементы</td>\n",
       "      <td>Трансурановые элементы</td>\n",
       "      <td>1</td>\n",
       "    </tr>\n",
       "    <tr>\n",
       "      <th>1728</th>\n",
       "      <td>103410-N</td>\n",
       "      <td>Эсватини</td>\n",
       "      <td>Эсватини</td>\n",
       "      <td>0</td>\n",
       "    </tr>\n",
       "    <tr>\n",
       "      <th>1729</th>\n",
       "      <td>141998-N</td>\n",
       "      <td>Землянка</td>\n",
       "      <td>Землянка</td>\n",
       "      <td>1</td>\n",
       "    </tr>\n",
       "  </tbody>\n",
       "</table>\n",
       "<p>1730 rows × 4 columns</p>\n",
       "</div>"
      ],
      "text/plain": [
       "     synset_id         wiki_title_gold              wiki_title  multi\n",
       "0     115195-N                  Облава                  Облава      1\n",
       "1     128158-N                 Шаньдун                 Шаньдун      1\n",
       "2     143699-N               Оксюморон               Оксюморон      0\n",
       "3       4061-N            Доверенность            Доверенность      1\n",
       "4     136544-N         Шахматная доска               не связан      1\n",
       "...        ...                     ...                     ...    ...\n",
       "1725  113701-N                     Бог                     Бог      0\n",
       "1726  124807-N          Наставничество          Наставничество      0\n",
       "1727    9199-N  Трансурановые элементы  Трансурановые элементы      1\n",
       "1728  103410-N                Эсватини                Эсватини      0\n",
       "1729  141998-N                Землянка                Землянка      1\n",
       "\n",
       "[1730 rows x 4 columns]"
      ]
     },
     "execution_count": 58,
     "metadata": {},
     "output_type": "execute_result"
    }
   ],
   "source": [
    "for_apply = df[\"synset_id\"].copy()\n",
    "dataset[\"multi\"] = for_apply.apply(lambda x: 0 if x in set_single else 1)\n",
    "dataset"
   ]
  },
  {
   "cell_type": "code",
   "execution_count": 59,
   "id": "9950ba19",
   "metadata": {},
   "outputs": [
    {
     "name": "stdout",
     "output_type": "stream",
     "text": [
      "[Synset(id=\"128158-N\", title=\"ШАНЬДУН\")]\n"
     ]
    }
   ],
   "source": [
    "print(wn.get_synsets(\"Шаньдун\"))"
   ]
  },
  {
   "cell_type": "code",
   "execution_count": 60,
   "id": "d4c4b39c",
   "metadata": {},
   "outputs": [
    {
     "data": {
      "text/plain": [
       "0.7567204301075269"
      ]
     },
     "execution_count": 60,
     "metadata": {},
     "output_type": "execute_result"
    }
   ],
   "source": [
    "y_true = dataset.loc[dataset['multi'] == 0, 'wiki_title_gold'].values\n",
    "y_pred = dataset.loc[dataset['multi'] == 0, 'wiki_title'].values\n",
    "accuracy_score(y_true, y_pred)"
   ]
  },
  {
   "cell_type": "code",
   "execution_count": 61,
   "id": "c0e80462",
   "metadata": {},
   "outputs": [
    {
     "data": {
      "text/plain": [
       "0.7079107505070994"
      ]
     },
     "execution_count": 61,
     "metadata": {},
     "output_type": "execute_result"
    }
   ],
   "source": [
    "y_true = dataset.loc[dataset['multi'] == 1, 'wiki_title_gold'].values\n",
    "y_pred = dataset.loc[dataset['multi'] == 1, 'wiki_title'].values\n",
    "accuracy_score(y_true, y_pred)"
   ]
  },
  {
   "cell_type": "code",
   "execution_count": 67,
   "id": "43edf3d3",
   "metadata": {},
   "outputs": [
    {
     "data": {
      "text/html": [
       "<div>\n",
       "<style scoped>\n",
       "    .dataframe tbody tr th:only-of-type {\n",
       "        vertical-align: middle;\n",
       "    }\n",
       "\n",
       "    .dataframe tbody tr th {\n",
       "        vertical-align: top;\n",
       "    }\n",
       "\n",
       "    .dataframe thead th {\n",
       "        text-align: right;\n",
       "    }\n",
       "</style>\n",
       "<table border=\"1\" class=\"dataframe\">\n",
       "  <thead>\n",
       "    <tr style=\"text-align: right;\">\n",
       "      <th></th>\n",
       "      <th>all dataset</th>\n",
       "      <th>single</th>\n",
       "      <th>multi</th>\n",
       "    </tr>\n",
       "  </thead>\n",
       "  <tbody>\n",
       "    <tr>\n",
       "      <th>base_labse</th>\n",
       "      <td>0.728902</td>\n",
       "      <td>0.75672</td>\n",
       "      <td>0.707911</td>\n",
       "    </tr>\n",
       "    <tr>\n",
       "      <th>labse</th>\n",
       "      <td>0.000000</td>\n",
       "      <td>0.00000</td>\n",
       "      <td>0.000000</td>\n",
       "    </tr>\n",
       "    <tr>\n",
       "      <th>base</th>\n",
       "      <td>0.000000</td>\n",
       "      <td>0.00000</td>\n",
       "      <td>0.000000</td>\n",
       "    </tr>\n",
       "    <tr>\n",
       "      <th>Fasttext</th>\n",
       "      <td>0.000000</td>\n",
       "      <td>0.00000</td>\n",
       "      <td>0.000000</td>\n",
       "    </tr>\n",
       "  </tbody>\n",
       "</table>\n",
       "</div>"
      ],
      "text/plain": [
       "            all dataset   single     multi\n",
       "base_labse     0.728902  0.75672  0.707911\n",
       "labse          0.000000  0.00000  0.000000\n",
       "base           0.000000  0.00000  0.000000\n",
       "Fasttext       0.000000  0.00000  0.000000"
      ]
     },
     "execution_count": 67,
     "metadata": {},
     "output_type": "execute_result"
    }
   ],
   "source": [
    "# dct = {\"all dataset\": [0.7289017341040462, 0, 0, 0], \"single\": [0.7567204301075269, 0, 0, 0], \"multi\": [0.7079107505070994, 0, 0, 0]}\n",
    "\n",
    "# df_answer = pd.DataFrame(dct)\n",
    "# df_answer.index = ['base_labse', 'labse', 'base', 'Fasttext']\n",
    "# df_answer"
   ]
  },
  {
   "cell_type": "code",
   "execution_count": 68,
   "id": "dbe3c24f",
   "metadata": {},
   "outputs": [],
   "source": [
    "df_answer.to_csv(\"answers.csv\", sep='\\t')"
   ]
  },
  {
   "cell_type": "code",
   "execution_count": null,
   "id": "54d5edb0",
   "metadata": {},
   "outputs": [],
   "source": []
  }
 ],
 "metadata": {
  "kernelspec": {
   "display_name": "Python 3 (ipykernel)",
   "language": "python",
   "name": "python3"
  },
  "language_info": {
   "codemirror_mode": {
    "name": "ipython",
    "version": 3
   },
   "file_extension": ".py",
   "mimetype": "text/x-python",
   "name": "python",
   "nbconvert_exporter": "python",
   "pygments_lexer": "ipython3",
   "version": "3.9.13"
  }
 },
 "nbformat": 4,
 "nbformat_minor": 5
}
